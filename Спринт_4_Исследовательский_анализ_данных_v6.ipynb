{
 "cells": [
  {
   "cell_type": "markdown",
   "id": "1a4f1b34",
   "metadata": {
    "toc": true
   },
   "source": [
    "<h1>Table of Contents<span class=\"tocSkip\"></span></h1>\n",
    "<div class=\"toc\"><ul class=\"toc-item\"><li><span><a href=\"#Исследование-объявлений-о-продаже-квартир\" data-toc-modified-id=\"Исследование-объявлений-о-продаже-квартир-1\">Исследование объявлений о продаже квартир</a></span></li><li><span><a href=\"#Шаг-1.-Открытие-и-изучение-датафрейма\" data-toc-modified-id=\"Шаг-1.-Открытие-и-изучение-датафрейма-2\">Шаг 1. Открытие и изучение датафрейма</a></span><ul class=\"toc-item\"><li><ul class=\"toc-item\"><li><span><a href=\"#Выводы\" data-toc-modified-id=\"Выводы-2.0.1\">Выводы</a></span></li></ul></li></ul></li><li><span><a href=\"#Шаг-2.-Предобработка-данных\" data-toc-modified-id=\"Шаг-2.-Предобработка-данных-3\">Шаг 2. Предобработка данных</a></span><ul class=\"toc-item\"><li><span><a href=\"#Высота-потолков\" data-toc-modified-id=\"Высота-потолков-3.1\">Высота потолков</a></span><ul class=\"toc-item\"><li><ul class=\"toc-item\"><li><span><a href=\"#Обработка-анамальных-значений---замена-на-медиану\" data-toc-modified-id=\"Обработка-анамальных-значений---замена-на-медиану-3.1.0.1\">Обработка анамальных значений - замена на медиану</a></span></li><li><span><a href=\"#Обработка-пропусков---замена-на-медиану\" data-toc-modified-id=\"Обработка-пропусков---замена-на-медиану-3.1.0.2\">Обработка пропусков - замена на медиану</a></span></li></ul></li></ul></li><li><span><a href=\"#Общая-жилая-площадь---расчет-через-процент-от-общей-площади\" data-toc-modified-id=\"Общая-жилая-площадь---расчет-через-процент-от-общей-площади-3.2\">Общая жилая площадь - расчет через процент от общей площади</a></span></li><li><span><a href=\"#Площадь-кухни---замена-на-нули\" data-toc-modified-id=\"Площадь-кухни---замена-на-нули-3.3\">Площадь кухни - замена на нули</a></span></li><li><span><a href=\"#Количество-балконов---замена-на-нули\" data-toc-modified-id=\"Количество-балконов---замена-на-нули-3.4\">Количество балконов - замена на нули</a></span></li><li><span><a href=\"#Парки-и-пруды-рядом\" data-toc-modified-id=\"Парки-и-пруды-рядом-3.5\">Парки и пруды рядом</a></span></li><li><span><a href=\"#Число-дней-размещения\" data-toc-modified-id=\"Число-дней-размещения-3.6\">Число дней размещения</a></span></li><li><span><a href=\"#Изменение-типов-данных\" data-toc-modified-id=\"Изменение-типов-данных-3.7\">Изменение типов данных</a></span></li><li><span><a href=\"#Число-пропусков-после-обработки\" data-toc-modified-id=\"Число-пропусков-после-обработки-3.8\">Число пропусков после обработки</a></span></li></ul></li><li><span><a href=\"#Шаг-3.-Посчитайте-и-добавьте-данные-в-таблицу\" data-toc-modified-id=\"Шаг-3.-Посчитайте-и-добавьте-данные-в-таблицу-4\">Шаг 3. Посчитайте и добавьте данные в таблицу</a></span><ul class=\"toc-item\"><li><ul class=\"toc-item\"><li><span><a href=\"#3.1-Добавление-цены-за-квадратный-метр\" data-toc-modified-id=\"3.1-Добавление-цены-за-квадратный-метр-4.0.1\">3.1 Добавление цены за квадратный метр</a></span></li><li><span><a href=\"#3.2-Добавление-деня-недели,-месяца-и-года-публикации-объявления\" data-toc-modified-id=\"3.2-Добавление-деня-недели,-месяца-и-года-публикации-объявления-4.0.2\">3.2 Добавление деня недели, месяца и года публикации объявления</a></span></li><li><span><a href=\"#3.3-Добавление-категории-этажности-кваритры\" data-toc-modified-id=\"3.3-Добавление-категории-этажности-кваритры-4.0.3\">3.3 Добавление категории этажности кваритры</a></span></li><li><span><a href=\"#3.4-Добравление-соотношения-жилой-и-общей-площади,-а-также-отношение-площади-кухни-к-общей\" data-toc-modified-id=\"3.4-Добравление-соотношения-жилой-и-общей-площади,-а-также-отношение-площади-кухни-к-общей-4.0.4\">3.4 Добравление соотношения жилой и общей площади, а также отношение площади кухни к общей</a></span></li></ul></li></ul></li><li><span><a href=\"#Шаг-4.-Проведите-исследовательский-анализ-данных-и-выполните-инструкции\" data-toc-modified-id=\"Шаг-4.-Проведите-исследовательский-анализ-данных-и-выполните-инструкции-5\">Шаг 4. Проведите исследовательский анализ данных и выполните инструкции</a></span><ul class=\"toc-item\"><li><ul class=\"toc-item\"><li><span><a href=\"#4.1-Изучите-следующие-параметры:-площадь,-цена,-число-комнат,-высота-потолков.-Постройте-гистограммы-для-каждого-параметра.\" data-toc-modified-id=\"4.1-Изучите-следующие-параметры:-площадь,-цена,-число-комнат,-высота-потолков.-Постройте-гистограммы-для-каждого-параметра.-5.0.1\">4.1 Изучите следующие параметры: площадь, цена, число комнат, высота потолков. Постройте гистограммы для каждого параметра.</a></span></li><li><span><a href=\"#4.2-Время-продажи-квартиры\" data-toc-modified-id=\"4.2-Время-продажи-квартиры-5.0.2\">4.2 Время продажи квартиры</a></span></li><li><span><a href=\"#4.3-Уберем-редкие-и-выбивающиеся-значения\" data-toc-modified-id=\"4.3-Уберем-редкие-и-выбивающиеся-значения-5.0.3\">4.3 Уберем редкие и выбивающиеся значения</a></span></li><li><span><a href=\"#4.4-Какие-факторы-больше-всего-влияют-на-стоимость-квартиры?\" data-toc-modified-id=\"4.4-Какие-факторы-больше-всего-влияют-на-стоимость-квартиры?-5.0.4\">4.4 Какие факторы больше всего влияют на стоимость квартиры?</a></span></li><li><span><a href=\"#4.5-10-населённых-пунктов-с-наибольшим-числом-объявлений\" data-toc-modified-id=\"4.5-10-населённых-пунктов-с-наибольшим-числом-объявлений-5.0.5\">4.5 10 населённых пунктов с наибольшим числом объявлений</a></span></li><li><span><a href=\"#4.6-Определение-центральной-зоны-для-Санкт-Петербурга\" data-toc-modified-id=\"4.6-Определение-центральной-зоны-для-Санкт-Петербурга-5.0.6\">4.6 Определение центральной зоны для Санкт-Петербурга</a></span></li><li><span><a href=\"#4.7-Аналитика-квартир-центральной-зоны-Санкт-Петербурга\" data-toc-modified-id=\"4.7-Аналитика-квартир-центральной-зоны-Санкт-Петербурга-5.0.7\">4.7 Аналитика квартир центральной зоны Санкт-Петербурга</a></span></li></ul></li></ul></li></ul></div>"
   ]
  },
  {
   "cell_type": "markdown",
   "id": "a3bc21ea",
   "metadata": {},
   "source": [
    "# Исследование объявлений о продаже квартир\n",
    "\n",
    "В вашем распоряжении данные сервиса Яндекc Недвижимость — архив объявлений о продаже квартир в Санкт-Петербурге и соседних населённых пунктах за несколько лет. Нужно научиться определять рыночную стоимость объектов недвижимости. Ваша задача — установить параметры. Это позволит построить автоматизированную систему: она отследит аномалии и мошенническую деятельность. \n",
    "\n",
    "По каждой квартире на продажу доступны два вида данных. Первые вписаны пользователем, вторые получены автоматически на основе картографических данных. Например, расстояние до центра, аэропорта, ближайшего парка и водоёма. "
   ]
  },
  {
   "cell_type": "code",
   "execution_count": 1,
   "id": "bf2a6639-5494-4664-bb51-170c5bfe26a9",
   "metadata": {},
   "outputs": [],
   "source": [
    "import pandas as pd\n",
    "import numpy as np\n",
    "import matplotlib.pyplot as plt"
   ]
  },
  {
   "cell_type": "markdown",
   "id": "3a91ca04",
   "metadata": {},
   "source": [
    "# Шаг 1. Открытие и изучение датафрейма"
   ]
  },
  {
   "cell_type": "code",
   "execution_count": 2,
   "id": "8f4ee9b4",
   "metadata": {},
   "outputs": [
    {
     "name": "stdout",
     "output_type": "stream",
     "text": [
      "<class 'pandas.core.frame.DataFrame'>\n",
      "RangeIndex: 23699 entries, 0 to 23698\n",
      "Data columns (total 22 columns):\n",
      " #   Column                Non-Null Count  Dtype  \n",
      "---  ------                --------------  -----  \n",
      " 0   total_images          23699 non-null  int64  \n",
      " 1   last_price            23699 non-null  float64\n",
      " 2   total_area            23699 non-null  float64\n",
      " 3   first_day_exposition  23699 non-null  object \n",
      " 4   rooms                 23699 non-null  int64  \n",
      " 5   ceiling_height        14504 non-null  float64\n",
      " 6   floors_total          23613 non-null  float64\n",
      " 7   living_area           21796 non-null  float64\n",
      " 8   floor                 23699 non-null  int64  \n",
      " 9   is_apartment          2775 non-null   object \n",
      " 10  studio                23699 non-null  bool   \n",
      " 11  open_plan             23699 non-null  bool   \n",
      " 12  kitchen_area          21421 non-null  float64\n",
      " 13  balcony               12180 non-null  float64\n",
      " 14  locality_name         23650 non-null  object \n",
      " 15  airports_nearest      18157 non-null  float64\n",
      " 16  cityCenters_nearest   18180 non-null  float64\n",
      " 17  parks_around3000      18181 non-null  float64\n",
      " 18  parks_nearest         8079 non-null   float64\n",
      " 19  ponds_around3000      18181 non-null  float64\n",
      " 20  ponds_nearest         9110 non-null   float64\n",
      " 21  days_exposition       20518 non-null  float64\n",
      "dtypes: bool(2), float64(14), int64(3), object(3)\n",
      "memory usage: 3.7+ MB\n"
     ]
    },
    {
     "data": {
      "text/html": [
       "<div>\n",
       "<style scoped>\n",
       "    .dataframe tbody tr th:only-of-type {\n",
       "        vertical-align: middle;\n",
       "    }\n",
       "\n",
       "    .dataframe tbody tr th {\n",
       "        vertical-align: top;\n",
       "    }\n",
       "\n",
       "    .dataframe thead th {\n",
       "        text-align: right;\n",
       "    }\n",
       "</style>\n",
       "<table border=\"1\" class=\"dataframe\">\n",
       "  <thead>\n",
       "    <tr style=\"text-align: right;\">\n",
       "      <th></th>\n",
       "      <th>total_images</th>\n",
       "      <th>last_price</th>\n",
       "      <th>total_area</th>\n",
       "      <th>first_day_exposition</th>\n",
       "      <th>rooms</th>\n",
       "      <th>ceiling_height</th>\n",
       "      <th>floors_total</th>\n",
       "      <th>living_area</th>\n",
       "      <th>floor</th>\n",
       "      <th>is_apartment</th>\n",
       "      <th>...</th>\n",
       "      <th>kitchen_area</th>\n",
       "      <th>balcony</th>\n",
       "      <th>locality_name</th>\n",
       "      <th>airports_nearest</th>\n",
       "      <th>cityCenters_nearest</th>\n",
       "      <th>parks_around3000</th>\n",
       "      <th>parks_nearest</th>\n",
       "      <th>ponds_around3000</th>\n",
       "      <th>ponds_nearest</th>\n",
       "      <th>days_exposition</th>\n",
       "    </tr>\n",
       "  </thead>\n",
       "  <tbody>\n",
       "    <tr>\n",
       "      <th>3237</th>\n",
       "      <td>0</td>\n",
       "      <td>5300000.0</td>\n",
       "      <td>38.00</td>\n",
       "      <td>2016-05-20T00:00:00</td>\n",
       "      <td>1</td>\n",
       "      <td>NaN</td>\n",
       "      <td>9.0</td>\n",
       "      <td>17.50</td>\n",
       "      <td>4</td>\n",
       "      <td>NaN</td>\n",
       "      <td>...</td>\n",
       "      <td>NaN</td>\n",
       "      <td>0.0</td>\n",
       "      <td>Санкт-Петербург</td>\n",
       "      <td>33052.0</td>\n",
       "      <td>12793.0</td>\n",
       "      <td>0.0</td>\n",
       "      <td>NaN</td>\n",
       "      <td>0.0</td>\n",
       "      <td>NaN</td>\n",
       "      <td>39.0</td>\n",
       "    </tr>\n",
       "    <tr>\n",
       "      <th>22301</th>\n",
       "      <td>20</td>\n",
       "      <td>5250000.0</td>\n",
       "      <td>50.00</td>\n",
       "      <td>2018-02-16T00:00:00</td>\n",
       "      <td>2</td>\n",
       "      <td>NaN</td>\n",
       "      <td>21.0</td>\n",
       "      <td>26.00</td>\n",
       "      <td>5</td>\n",
       "      <td>NaN</td>\n",
       "      <td>...</td>\n",
       "      <td>10.00</td>\n",
       "      <td>NaN</td>\n",
       "      <td>Санкт-Петербург</td>\n",
       "      <td>21460.0</td>\n",
       "      <td>16788.0</td>\n",
       "      <td>0.0</td>\n",
       "      <td>NaN</td>\n",
       "      <td>1.0</td>\n",
       "      <td>170.0</td>\n",
       "      <td>284.0</td>\n",
       "    </tr>\n",
       "    <tr>\n",
       "      <th>19061</th>\n",
       "      <td>12</td>\n",
       "      <td>3800000.0</td>\n",
       "      <td>37.60</td>\n",
       "      <td>2017-05-26T00:00:00</td>\n",
       "      <td>1</td>\n",
       "      <td>NaN</td>\n",
       "      <td>16.0</td>\n",
       "      <td>16.70</td>\n",
       "      <td>12</td>\n",
       "      <td>NaN</td>\n",
       "      <td>...</td>\n",
       "      <td>11.20</td>\n",
       "      <td>0.0</td>\n",
       "      <td>посёлок Мурино</td>\n",
       "      <td>NaN</td>\n",
       "      <td>NaN</td>\n",
       "      <td>NaN</td>\n",
       "      <td>NaN</td>\n",
       "      <td>NaN</td>\n",
       "      <td>NaN</td>\n",
       "      <td>61.0</td>\n",
       "    </tr>\n",
       "    <tr>\n",
       "      <th>13413</th>\n",
       "      <td>9</td>\n",
       "      <td>6395000.0</td>\n",
       "      <td>75.00</td>\n",
       "      <td>2017-11-16T00:00:00</td>\n",
       "      <td>3</td>\n",
       "      <td>2.70</td>\n",
       "      <td>12.0</td>\n",
       "      <td>44.30</td>\n",
       "      <td>4</td>\n",
       "      <td>NaN</td>\n",
       "      <td>...</td>\n",
       "      <td>8.20</td>\n",
       "      <td>NaN</td>\n",
       "      <td>Санкт-Петербург</td>\n",
       "      <td>50303.0</td>\n",
       "      <td>15631.0</td>\n",
       "      <td>1.0</td>\n",
       "      <td>469.0</td>\n",
       "      <td>0.0</td>\n",
       "      <td>NaN</td>\n",
       "      <td>225.0</td>\n",
       "    </tr>\n",
       "    <tr>\n",
       "      <th>6202</th>\n",
       "      <td>8</td>\n",
       "      <td>22000000.0</td>\n",
       "      <td>80.00</td>\n",
       "      <td>2016-05-23T00:00:00</td>\n",
       "      <td>3</td>\n",
       "      <td>3.10</td>\n",
       "      <td>7.0</td>\n",
       "      <td>49.60</td>\n",
       "      <td>5</td>\n",
       "      <td>False</td>\n",
       "      <td>...</td>\n",
       "      <td>10.00</td>\n",
       "      <td>1.0</td>\n",
       "      <td>Санкт-Петербург</td>\n",
       "      <td>12875.0</td>\n",
       "      <td>8406.0</td>\n",
       "      <td>1.0</td>\n",
       "      <td>385.0</td>\n",
       "      <td>3.0</td>\n",
       "      <td>442.0</td>\n",
       "      <td>281.0</td>\n",
       "    </tr>\n",
       "    <tr>\n",
       "      <th>6220</th>\n",
       "      <td>0</td>\n",
       "      <td>1100000.0</td>\n",
       "      <td>32.00</td>\n",
       "      <td>2018-03-06T00:00:00</td>\n",
       "      <td>0</td>\n",
       "      <td>2.70</td>\n",
       "      <td>3.0</td>\n",
       "      <td>20.00</td>\n",
       "      <td>1</td>\n",
       "      <td>NaN</td>\n",
       "      <td>...</td>\n",
       "      <td>NaN</td>\n",
       "      <td>NaN</td>\n",
       "      <td>городской поселок Большая Ижора</td>\n",
       "      <td>NaN</td>\n",
       "      <td>NaN</td>\n",
       "      <td>NaN</td>\n",
       "      <td>NaN</td>\n",
       "      <td>NaN</td>\n",
       "      <td>NaN</td>\n",
       "      <td>70.0</td>\n",
       "    </tr>\n",
       "    <tr>\n",
       "      <th>6992</th>\n",
       "      <td>8</td>\n",
       "      <td>10300000.0</td>\n",
       "      <td>68.60</td>\n",
       "      <td>2018-03-02T00:00:00</td>\n",
       "      <td>2</td>\n",
       "      <td>NaN</td>\n",
       "      <td>14.0</td>\n",
       "      <td>34.50</td>\n",
       "      <td>9</td>\n",
       "      <td>NaN</td>\n",
       "      <td>...</td>\n",
       "      <td>15.00</td>\n",
       "      <td>NaN</td>\n",
       "      <td>Санкт-Петербург</td>\n",
       "      <td>51900.0</td>\n",
       "      <td>12114.0</td>\n",
       "      <td>1.0</td>\n",
       "      <td>441.0</td>\n",
       "      <td>1.0</td>\n",
       "      <td>492.0</td>\n",
       "      <td>46.0</td>\n",
       "    </tr>\n",
       "    <tr>\n",
       "      <th>2495</th>\n",
       "      <td>8</td>\n",
       "      <td>4200000.0</td>\n",
       "      <td>44.63</td>\n",
       "      <td>2019-03-13T00:00:00</td>\n",
       "      <td>2</td>\n",
       "      <td>2.55</td>\n",
       "      <td>5.0</td>\n",
       "      <td>28.26</td>\n",
       "      <td>4</td>\n",
       "      <td>NaN</td>\n",
       "      <td>...</td>\n",
       "      <td>5.78</td>\n",
       "      <td>1.0</td>\n",
       "      <td>Санкт-Петербург</td>\n",
       "      <td>33153.0</td>\n",
       "      <td>9253.0</td>\n",
       "      <td>2.0</td>\n",
       "      <td>256.0</td>\n",
       "      <td>0.0</td>\n",
       "      <td>NaN</td>\n",
       "      <td>NaN</td>\n",
       "    </tr>\n",
       "    <tr>\n",
       "      <th>8346</th>\n",
       "      <td>18</td>\n",
       "      <td>2200000.0</td>\n",
       "      <td>36.20</td>\n",
       "      <td>2017-01-18T00:00:00</td>\n",
       "      <td>1</td>\n",
       "      <td>NaN</td>\n",
       "      <td>5.0</td>\n",
       "      <td>17.20</td>\n",
       "      <td>1</td>\n",
       "      <td>NaN</td>\n",
       "      <td>...</td>\n",
       "      <td>8.50</td>\n",
       "      <td>NaN</td>\n",
       "      <td>деревня Низино</td>\n",
       "      <td>NaN</td>\n",
       "      <td>NaN</td>\n",
       "      <td>NaN</td>\n",
       "      <td>NaN</td>\n",
       "      <td>NaN</td>\n",
       "      <td>NaN</td>\n",
       "      <td>631.0</td>\n",
       "    </tr>\n",
       "    <tr>\n",
       "      <th>14809</th>\n",
       "      <td>17</td>\n",
       "      <td>13300000.0</td>\n",
       "      <td>101.20</td>\n",
       "      <td>2018-03-03T00:00:00</td>\n",
       "      <td>3</td>\n",
       "      <td>2.75</td>\n",
       "      <td>25.0</td>\n",
       "      <td>55.40</td>\n",
       "      <td>25</td>\n",
       "      <td>NaN</td>\n",
       "      <td>...</td>\n",
       "      <td>13.50</td>\n",
       "      <td>1.0</td>\n",
       "      <td>Санкт-Петербург</td>\n",
       "      <td>36533.0</td>\n",
       "      <td>9289.0</td>\n",
       "      <td>1.0</td>\n",
       "      <td>674.0</td>\n",
       "      <td>0.0</td>\n",
       "      <td>NaN</td>\n",
       "      <td>74.0</td>\n",
       "    </tr>\n",
       "  </tbody>\n",
       "</table>\n",
       "<p>10 rows × 22 columns</p>\n",
       "</div>"
      ],
      "text/plain": [
       "       total_images  last_price  total_area first_day_exposition  rooms  \\\n",
       "3237              0   5300000.0       38.00  2016-05-20T00:00:00      1   \n",
       "22301            20   5250000.0       50.00  2018-02-16T00:00:00      2   \n",
       "19061            12   3800000.0       37.60  2017-05-26T00:00:00      1   \n",
       "13413             9   6395000.0       75.00  2017-11-16T00:00:00      3   \n",
       "6202              8  22000000.0       80.00  2016-05-23T00:00:00      3   \n",
       "6220              0   1100000.0       32.00  2018-03-06T00:00:00      0   \n",
       "6992              8  10300000.0       68.60  2018-03-02T00:00:00      2   \n",
       "2495              8   4200000.0       44.63  2019-03-13T00:00:00      2   \n",
       "8346             18   2200000.0       36.20  2017-01-18T00:00:00      1   \n",
       "14809            17  13300000.0      101.20  2018-03-03T00:00:00      3   \n",
       "\n",
       "       ceiling_height  floors_total  living_area  floor is_apartment  ...  \\\n",
       "3237              NaN           9.0        17.50      4          NaN  ...   \n",
       "22301             NaN          21.0        26.00      5          NaN  ...   \n",
       "19061             NaN          16.0        16.70     12          NaN  ...   \n",
       "13413            2.70          12.0        44.30      4          NaN  ...   \n",
       "6202             3.10           7.0        49.60      5        False  ...   \n",
       "6220             2.70           3.0        20.00      1          NaN  ...   \n",
       "6992              NaN          14.0        34.50      9          NaN  ...   \n",
       "2495             2.55           5.0        28.26      4          NaN  ...   \n",
       "8346              NaN           5.0        17.20      1          NaN  ...   \n",
       "14809            2.75          25.0        55.40     25          NaN  ...   \n",
       "\n",
       "       kitchen_area  balcony                    locality_name  \\\n",
       "3237            NaN      0.0                  Санкт-Петербург   \n",
       "22301         10.00      NaN                  Санкт-Петербург   \n",
       "19061         11.20      0.0                   посёлок Мурино   \n",
       "13413          8.20      NaN                  Санкт-Петербург   \n",
       "6202          10.00      1.0                  Санкт-Петербург   \n",
       "6220            NaN      NaN  городской поселок Большая Ижора   \n",
       "6992          15.00      NaN                  Санкт-Петербург   \n",
       "2495           5.78      1.0                  Санкт-Петербург   \n",
       "8346           8.50      NaN                   деревня Низино   \n",
       "14809         13.50      1.0                  Санкт-Петербург   \n",
       "\n",
       "       airports_nearest cityCenters_nearest  parks_around3000  parks_nearest  \\\n",
       "3237            33052.0             12793.0               0.0            NaN   \n",
       "22301           21460.0             16788.0               0.0            NaN   \n",
       "19061               NaN                 NaN               NaN            NaN   \n",
       "13413           50303.0             15631.0               1.0          469.0   \n",
       "6202            12875.0              8406.0               1.0          385.0   \n",
       "6220                NaN                 NaN               NaN            NaN   \n",
       "6992            51900.0             12114.0               1.0          441.0   \n",
       "2495            33153.0              9253.0               2.0          256.0   \n",
       "8346                NaN                 NaN               NaN            NaN   \n",
       "14809           36533.0              9289.0               1.0          674.0   \n",
       "\n",
       "       ponds_around3000  ponds_nearest  days_exposition  \n",
       "3237                0.0            NaN             39.0  \n",
       "22301               1.0          170.0            284.0  \n",
       "19061               NaN            NaN             61.0  \n",
       "13413               0.0            NaN            225.0  \n",
       "6202                3.0          442.0            281.0  \n",
       "6220                NaN            NaN             70.0  \n",
       "6992                1.0          492.0             46.0  \n",
       "2495                0.0            NaN              NaN  \n",
       "8346                NaN            NaN            631.0  \n",
       "14809               0.0            NaN             74.0  \n",
       "\n",
       "[10 rows x 22 columns]"
      ]
     },
     "execution_count": 2,
     "metadata": {},
     "output_type": "execute_result"
    }
   ],
   "source": [
    "df = pd.read_csv('/Users/arturfattahov/Downloads/real_estate_data.csv', sep='\\t')\n",
    "df.info()\n",
    "df.sample(10)"
   ]
  },
  {
   "cell_type": "markdown",
   "id": "561abf09",
   "metadata": {},
   "source": [
    "**Описание столбцов**"
   ]
  },
  {
   "cell_type": "raw",
   "id": "6f545a71-1b5d-4106-865a-60d60bf37df1",
   "metadata": {},
   "source": [
    "airports_nearest — расстояние до ближайшего аэропорта в метрах (м)\n",
    "balcony — число балконов\n",
    "ceiling_height — высота потолков (м)\n",
    "cityCenters_nearest — расстояние до центра города (м)\n",
    "days_exposition — сколько дней было размещено объявление (от публикации до снятия)\n",
    "first_day_exposition — дата публикации\n",
    "floor — этаж\n",
    "floors_total — всего этажей в доме\n",
    "is_apartment — апартаменты (булев тип)\n",
    "kitchen_area — площадь кухни в квадратных метрах (м²)\n",
    "last_price — цена на момент снятия с публикации\n",
    "living_area — жилая площадь в квадратных метрах (м²)\n",
    "locality_name — название населённого пункта\n",
    "open_plan — свободная планировка (булев тип)\n",
    "parks_around3000 — число парков в радиусе 3 км\n",
    "parks_nearest — расстояние до ближайшего парка (м)\n",
    "ponds_around3000 — число водоёмов в радиусе 3 км\n",
    "ponds_nearest — расстояние до ближайшего водоёма (м)\n",
    "rooms — число комнат\n",
    "studio — квартира-студия (булев тип)\n",
    "total_area — площадь квартиры в квадратных метрах (м²)\n",
    "total_images — число фотографий квартиры в объявлении"
   ]
  },
  {
   "cell_type": "code",
   "execution_count": 3,
   "id": "4fb11dab",
   "metadata": {
    "scrolled": false
   },
   "outputs": [
    {
     "data": {
      "text/html": [
       "<div>\n",
       "<style scoped>\n",
       "    .dataframe tbody tr th:only-of-type {\n",
       "        vertical-align: middle;\n",
       "    }\n",
       "\n",
       "    .dataframe tbody tr th {\n",
       "        vertical-align: top;\n",
       "    }\n",
       "\n",
       "    .dataframe thead th {\n",
       "        text-align: right;\n",
       "    }\n",
       "</style>\n",
       "<table border=\"1\" class=\"dataframe\">\n",
       "  <thead>\n",
       "    <tr style=\"text-align: right;\">\n",
       "      <th></th>\n",
       "      <th>total_images</th>\n",
       "      <th>last_price</th>\n",
       "      <th>total_area</th>\n",
       "      <th>rooms</th>\n",
       "      <th>ceiling_height</th>\n",
       "      <th>floors_total</th>\n",
       "      <th>living_area</th>\n",
       "      <th>floor</th>\n",
       "      <th>kitchen_area</th>\n",
       "      <th>balcony</th>\n",
       "      <th>airports_nearest</th>\n",
       "      <th>cityCenters_nearest</th>\n",
       "      <th>parks_around3000</th>\n",
       "      <th>parks_nearest</th>\n",
       "      <th>ponds_around3000</th>\n",
       "      <th>ponds_nearest</th>\n",
       "      <th>days_exposition</th>\n",
       "    </tr>\n",
       "  </thead>\n",
       "  <tbody>\n",
       "    <tr>\n",
       "      <th>count</th>\n",
       "      <td>23699.000000</td>\n",
       "      <td>2.369900e+04</td>\n",
       "      <td>23699.000000</td>\n",
       "      <td>23699.000000</td>\n",
       "      <td>14504.000000</td>\n",
       "      <td>23613.000000</td>\n",
       "      <td>21796.000000</td>\n",
       "      <td>23699.000000</td>\n",
       "      <td>21421.000000</td>\n",
       "      <td>12180.000000</td>\n",
       "      <td>18157.000000</td>\n",
       "      <td>18180.000000</td>\n",
       "      <td>18181.000000</td>\n",
       "      <td>8079.000000</td>\n",
       "      <td>18181.000000</td>\n",
       "      <td>9110.000000</td>\n",
       "      <td>20518.000000</td>\n",
       "    </tr>\n",
       "    <tr>\n",
       "      <th>mean</th>\n",
       "      <td>9.858475</td>\n",
       "      <td>6.541549e+06</td>\n",
       "      <td>60.348651</td>\n",
       "      <td>2.070636</td>\n",
       "      <td>2.771499</td>\n",
       "      <td>10.673824</td>\n",
       "      <td>34.457852</td>\n",
       "      <td>5.892358</td>\n",
       "      <td>10.569807</td>\n",
       "      <td>1.150082</td>\n",
       "      <td>28793.672193</td>\n",
       "      <td>14191.277833</td>\n",
       "      <td>0.611408</td>\n",
       "      <td>490.804555</td>\n",
       "      <td>0.770255</td>\n",
       "      <td>517.980900</td>\n",
       "      <td>180.888634</td>\n",
       "    </tr>\n",
       "    <tr>\n",
       "      <th>std</th>\n",
       "      <td>5.682529</td>\n",
       "      <td>1.088701e+07</td>\n",
       "      <td>35.654083</td>\n",
       "      <td>1.078405</td>\n",
       "      <td>1.261056</td>\n",
       "      <td>6.597173</td>\n",
       "      <td>22.030445</td>\n",
       "      <td>4.885249</td>\n",
       "      <td>5.905438</td>\n",
       "      <td>1.071300</td>\n",
       "      <td>12630.880622</td>\n",
       "      <td>8608.386210</td>\n",
       "      <td>0.802074</td>\n",
       "      <td>342.317995</td>\n",
       "      <td>0.938346</td>\n",
       "      <td>277.720643</td>\n",
       "      <td>219.727988</td>\n",
       "    </tr>\n",
       "    <tr>\n",
       "      <th>min</th>\n",
       "      <td>0.000000</td>\n",
       "      <td>1.219000e+04</td>\n",
       "      <td>12.000000</td>\n",
       "      <td>0.000000</td>\n",
       "      <td>1.000000</td>\n",
       "      <td>1.000000</td>\n",
       "      <td>2.000000</td>\n",
       "      <td>1.000000</td>\n",
       "      <td>1.300000</td>\n",
       "      <td>0.000000</td>\n",
       "      <td>0.000000</td>\n",
       "      <td>181.000000</td>\n",
       "      <td>0.000000</td>\n",
       "      <td>1.000000</td>\n",
       "      <td>0.000000</td>\n",
       "      <td>13.000000</td>\n",
       "      <td>1.000000</td>\n",
       "    </tr>\n",
       "    <tr>\n",
       "      <th>25%</th>\n",
       "      <td>6.000000</td>\n",
       "      <td>3.400000e+06</td>\n",
       "      <td>40.000000</td>\n",
       "      <td>1.000000</td>\n",
       "      <td>2.520000</td>\n",
       "      <td>5.000000</td>\n",
       "      <td>18.600000</td>\n",
       "      <td>2.000000</td>\n",
       "      <td>7.000000</td>\n",
       "      <td>0.000000</td>\n",
       "      <td>18585.000000</td>\n",
       "      <td>9238.000000</td>\n",
       "      <td>0.000000</td>\n",
       "      <td>288.000000</td>\n",
       "      <td>0.000000</td>\n",
       "      <td>294.000000</td>\n",
       "      <td>45.000000</td>\n",
       "    </tr>\n",
       "    <tr>\n",
       "      <th>50%</th>\n",
       "      <td>9.000000</td>\n",
       "      <td>4.650000e+06</td>\n",
       "      <td>52.000000</td>\n",
       "      <td>2.000000</td>\n",
       "      <td>2.650000</td>\n",
       "      <td>9.000000</td>\n",
       "      <td>30.000000</td>\n",
       "      <td>4.000000</td>\n",
       "      <td>9.100000</td>\n",
       "      <td>1.000000</td>\n",
       "      <td>26726.000000</td>\n",
       "      <td>13098.500000</td>\n",
       "      <td>0.000000</td>\n",
       "      <td>455.000000</td>\n",
       "      <td>1.000000</td>\n",
       "      <td>502.000000</td>\n",
       "      <td>95.000000</td>\n",
       "    </tr>\n",
       "    <tr>\n",
       "      <th>75%</th>\n",
       "      <td>14.000000</td>\n",
       "      <td>6.800000e+06</td>\n",
       "      <td>69.900000</td>\n",
       "      <td>3.000000</td>\n",
       "      <td>2.800000</td>\n",
       "      <td>16.000000</td>\n",
       "      <td>42.300000</td>\n",
       "      <td>8.000000</td>\n",
       "      <td>12.000000</td>\n",
       "      <td>2.000000</td>\n",
       "      <td>37273.000000</td>\n",
       "      <td>16293.000000</td>\n",
       "      <td>1.000000</td>\n",
       "      <td>612.000000</td>\n",
       "      <td>1.000000</td>\n",
       "      <td>729.000000</td>\n",
       "      <td>232.000000</td>\n",
       "    </tr>\n",
       "    <tr>\n",
       "      <th>max</th>\n",
       "      <td>50.000000</td>\n",
       "      <td>7.630000e+08</td>\n",
       "      <td>900.000000</td>\n",
       "      <td>19.000000</td>\n",
       "      <td>100.000000</td>\n",
       "      <td>60.000000</td>\n",
       "      <td>409.700000</td>\n",
       "      <td>33.000000</td>\n",
       "      <td>112.000000</td>\n",
       "      <td>5.000000</td>\n",
       "      <td>84869.000000</td>\n",
       "      <td>65968.000000</td>\n",
       "      <td>3.000000</td>\n",
       "      <td>3190.000000</td>\n",
       "      <td>3.000000</td>\n",
       "      <td>1344.000000</td>\n",
       "      <td>1580.000000</td>\n",
       "    </tr>\n",
       "  </tbody>\n",
       "</table>\n",
       "</div>"
      ],
      "text/plain": [
       "       total_images    last_price    total_area         rooms  ceiling_height  \\\n",
       "count  23699.000000  2.369900e+04  23699.000000  23699.000000    14504.000000   \n",
       "mean       9.858475  6.541549e+06     60.348651      2.070636        2.771499   \n",
       "std        5.682529  1.088701e+07     35.654083      1.078405        1.261056   \n",
       "min        0.000000  1.219000e+04     12.000000      0.000000        1.000000   \n",
       "25%        6.000000  3.400000e+06     40.000000      1.000000        2.520000   \n",
       "50%        9.000000  4.650000e+06     52.000000      2.000000        2.650000   \n",
       "75%       14.000000  6.800000e+06     69.900000      3.000000        2.800000   \n",
       "max       50.000000  7.630000e+08    900.000000     19.000000      100.000000   \n",
       "\n",
       "       floors_total   living_area         floor  kitchen_area       balcony  \\\n",
       "count  23613.000000  21796.000000  23699.000000  21421.000000  12180.000000   \n",
       "mean      10.673824     34.457852      5.892358     10.569807      1.150082   \n",
       "std        6.597173     22.030445      4.885249      5.905438      1.071300   \n",
       "min        1.000000      2.000000      1.000000      1.300000      0.000000   \n",
       "25%        5.000000     18.600000      2.000000      7.000000      0.000000   \n",
       "50%        9.000000     30.000000      4.000000      9.100000      1.000000   \n",
       "75%       16.000000     42.300000      8.000000     12.000000      2.000000   \n",
       "max       60.000000    409.700000     33.000000    112.000000      5.000000   \n",
       "\n",
       "       airports_nearest  cityCenters_nearest  parks_around3000  parks_nearest  \\\n",
       "count      18157.000000         18180.000000      18181.000000    8079.000000   \n",
       "mean       28793.672193         14191.277833          0.611408     490.804555   \n",
       "std        12630.880622          8608.386210          0.802074     342.317995   \n",
       "min            0.000000           181.000000          0.000000       1.000000   \n",
       "25%        18585.000000          9238.000000          0.000000     288.000000   \n",
       "50%        26726.000000         13098.500000          0.000000     455.000000   \n",
       "75%        37273.000000         16293.000000          1.000000     612.000000   \n",
       "max        84869.000000         65968.000000          3.000000    3190.000000   \n",
       "\n",
       "       ponds_around3000  ponds_nearest  days_exposition  \n",
       "count      18181.000000    9110.000000     20518.000000  \n",
       "mean           0.770255     517.980900       180.888634  \n",
       "std            0.938346     277.720643       219.727988  \n",
       "min            0.000000      13.000000         1.000000  \n",
       "25%            0.000000     294.000000        45.000000  \n",
       "50%            1.000000     502.000000        95.000000  \n",
       "75%            1.000000     729.000000       232.000000  \n",
       "max            3.000000    1344.000000      1580.000000  "
      ]
     },
     "execution_count": 3,
     "metadata": {},
     "output_type": "execute_result"
    }
   ],
   "source": [
    "df.describe()"
   ]
  },
  {
   "cell_type": "code",
   "execution_count": 4,
   "id": "b31e3873",
   "metadata": {
    "scrolled": true
   },
   "outputs": [
    {
     "data": {
      "image/png": "[encoded data removed]",
      "text/plain": [
       "<Figure size 1224x576 with 1 Axes>"
      ]
     },
     "metadata": {
      "needs_background": "light"
     },
     "output_type": "display_data"
    }
   ],
   "source": [
    "# посмотрим пропуски в процентах\n",
    "def percent_hbar(df, old_threshold=None):\n",
    "    percent_of_nulls = (df.isnull().sum()/len(df)*100).sort_values().round(1)\n",
    "    threshold = percent_of_nulls.mean()\n",
    "    ax = percent_of_nulls.plot(kind='barh', figsize=(17, 8), title='Процент NaN', \n",
    "                               color='darkblue', legend=False, fontsize=12)\n",
    "    ax.set_xlabel('Процент NaN')\n",
    "    dict_percent = dict(percent_of_nulls)\n",
    "    i = 0\n",
    "    for k in dict_percent:\n",
    "        color = 'darkgreen'\n",
    "        if dict_percent[k] > 0:\n",
    "            if dict_percent[k] > threshold:\n",
    "                color = 'red'\n",
    "            ax.text(dict_percent[k]+0.1, i + 0.09, str(dict_percent[k])+'%', color=color, \n",
    "                    fontweight='bold', fontsize='large')\n",
    "        i += 0.98\n",
    "    if old_threshold is not None:\n",
    "        plt.axvline(x=old_threshold,linewidth=1, color='r', linestyle='--')\n",
    "        ax.text(old_threshold+0.3, 10, '{0:.2%}'.format(old_threshold/100), color='r', fontweight='bold', fontsize='large')\n",
    "        plt.axvline(x=threshold,linewidth=1, color='yellow', linestyle='--')\n",
    "        ax.text(threshold+0.3, 10, '{0:.2%}'.format(threshold/100), color='yellow', fontweight='bold', fontsize='large')\n",
    "    else:\n",
    "        plt.axvline(x=threshold,linewidth=1, color='r', linestyle='--')\n",
    "        ax.text(threshold+0.3, 10, '{0:.2%}'.format(threshold/100), color='r', fontweight='bold', fontsize='large')\n",
    "    return ax, threshold\n",
    "\n",
    "plot, threshold = percent_hbar(df)"
   ]
  },
  {
   "cell_type": "markdown",
   "id": "13ef0072",
   "metadata": {},
   "source": [
    "### Выводы\n",
    "\n",
    "* На первый взгляд, в выгрузке очень много пропусков. Нужно переработать столбцы, которые понадобятся для исследования;\n",
    "* Некорректные типы данных"
   ]
  },
  {
   "cell_type": "markdown",
   "id": "d3318139-bbcf-4f02-8def-91993fc71946",
   "metadata": {},
   "source": [
    "# Шаг 2. Предобработка данных"
   ]
  },
  {
   "cell_type": "code",
   "execution_count": 5,
   "id": "5d8f8026",
   "metadata": {},
   "outputs": [
    {
     "data": {
      "text/plain": [
       "364"
      ]
     },
     "execution_count": 5,
     "metadata": {},
     "output_type": "execute_result"
    }
   ],
   "source": [
    "# Возможно, названия населенных пунктов записаны по разному\n",
    "# буква \"е\" могла заменять букву \"ё\" в некоторых записях\n",
    "# в разных записях мог использоваться разный регистр\n",
    "df['locality_name'].nunique()"
   ]
  },
  {
   "cell_type": "code",
   "execution_count": 6,
   "id": "eb4df2c6",
   "metadata": {},
   "outputs": [],
   "source": [
    "# Замена буквы \"е\" на \"ё\"\n",
    "# Перевод названий в нижний регистр\n",
    "df['locality_name'] = df['locality_name'].str.replace('ё', 'е', regex=True)\n",
    "#df['locality_name'] = df['locality_name'].str.lower()"
   ]
  },
  {
   "cell_type": "code",
   "execution_count": 7,
   "id": "2d621fbc",
   "metadata": {},
   "outputs": [
    {
     "data": {
      "text/plain": [
       "330"
      ]
     },
     "execution_count": 7,
     "metadata": {},
     "output_type": "execute_result"
    }
   ],
   "source": [
    "df['locality_name'].nunique()"
   ]
  },
  {
   "cell_type": "markdown",
   "id": "54613821",
   "metadata": {},
   "source": [
    "Наша гипотеза подтвердилась, уолучилось сократить количество насчеленых пунктов"
   ]
  },
  {
   "cell_type": "markdown",
   "id": "8f83271d-d261-4ddf-a0d8-474e86c462d4",
   "metadata": {
    "jp-MarkdownHeadingCollapsed": true,
    "tags": []
   },
   "source": [
    "## Высота потолков"
   ]
  },
  {
   "cell_type": "markdown",
   "id": "f267a7c7",
   "metadata": {},
   "source": [
    "#### Обработка анамальных значений - замена на медиану"
   ]
  },
  {
   "cell_type": "code",
   "execution_count": 8,
   "id": "e4a730e2",
   "metadata": {},
   "outputs": [
    {
     "name": "stdout",
     "output_type": "stream",
     "text": [
      "Количество квартир с потолками более 3 метров 1529\n"
     ]
    }
   ],
   "source": [
    "# Средняя высота потолков состаялет от 2,6 до 3 метров. В редких случаях, она может быть больше, чем 3 метра\n",
    "print('Количество квартир с потолками более 3 метров' ,df.query('ceiling_height > 3').count()[0])"
   ]
  },
  {
   "cell_type": "code",
   "execution_count": 9,
   "id": "6995511a",
   "metadata": {},
   "outputs": [
    {
     "name": "stdout",
     "output_type": "stream",
     "text": [
      "Среднее высоты потолков 2.7714988968559835\n"
     ]
    }
   ],
   "source": [
    "print('Среднее высоты потолков', df['ceiling_height'].mean())"
   ]
  },
  {
   "cell_type": "code",
   "execution_count": 10,
   "id": "f446f806",
   "metadata": {},
   "outputs": [],
   "source": [
    "# Заменим высоту потолков, которые состаяляют более 3 метров на среднее значение и округлим до 2 знаков\n",
    "df.loc[(df.ceiling_height > 3.0), 'ceiling_height'] = df['ceiling_height'].median()\n",
    "df['ceiling_height'] = df['ceiling_height'].round(2)"
   ]
  },
  {
   "cell_type": "markdown",
   "id": "3ded273b",
   "metadata": {},
   "source": [
    "#### Обработка пропусков - замена на медиану"
   ]
  },
  {
   "cell_type": "code",
   "execution_count": 11,
   "id": "58854ff8-9fcf-480f-a472-50a34087eea1",
   "metadata": {},
   "outputs": [
    {
     "name": "stdout",
     "output_type": "stream",
     "text": [
      "Количество пропусков в колонке с высотой потолков 9195\n"
     ]
    }
   ],
   "source": [
    "print('Количество пропусков в колонке с высотой потолков', df['ceiling_height'].isna().sum())"
   ]
  },
  {
   "cell_type": "code",
   "execution_count": 12,
   "id": "1b51f7d9-92bf-4674-bebc-89c6dac355f3",
   "metadata": {},
   "outputs": [],
   "source": [
    "# Замена NaN на среднее\n",
    "df['ceiling_height'] = df['ceiling_height'].fillna(df['ceiling_height'].median())"
   ]
  },
  {
   "cell_type": "code",
   "execution_count": 13,
   "id": "ca1037b7-ac3a-4ac1-864b-bc9c15c98ba2",
   "metadata": {
    "scrolled": true
   },
   "outputs": [
    {
     "data": {
      "text/plain": [
       "0"
      ]
     },
     "execution_count": 13,
     "metadata": {},
     "output_type": "execute_result"
    }
   ],
   "source": [
    "# Проверка замены\n",
    "df['ceiling_height'].isna().sum()"
   ]
  },
  {
   "cell_type": "markdown",
   "id": "e561e6cf-02ca-4fcf-9961-8a4c270c851f",
   "metadata": {
    "jp-MarkdownHeadingCollapsed": true,
    "tags": []
   },
   "source": [
    "## Общая жилая площадь - расчет через процент от общей площади"
   ]
  },
  {
   "cell_type": "markdown",
   "id": "13d3f853-bccd-421f-b96f-ae91d0674362",
   "metadata": {},
   "source": [
    "Так как жилая площадь  не может равняться нулю, то пересчитаем её: либо отняв процентное соотношение на которое общая площадь отличается от жилой"
   ]
  },
  {
   "cell_type": "code",
   "execution_count": 14,
   "id": "d846790c-7741-4cc5-bc6c-c697eb617121",
   "metadata": {},
   "outputs": [],
   "source": [
    "area = df[['living_area', 'total_area']] "
   ]
  },
  {
   "cell_type": "code",
   "execution_count": 15,
   "id": "bc538659-daec-42fe-9651-3b02f5077a05",
   "metadata": {},
   "outputs": [
    {
     "data": {
      "text/html": [
       "<div>\n",
       "<style scoped>\n",
       "    .dataframe tbody tr th:only-of-type {\n",
       "        vertical-align: middle;\n",
       "    }\n",
       "\n",
       "    .dataframe tbody tr th {\n",
       "        vertical-align: top;\n",
       "    }\n",
       "\n",
       "    .dataframe thead th {\n",
       "        text-align: right;\n",
       "    }\n",
       "</style>\n",
       "<table border=\"1\" class=\"dataframe\">\n",
       "  <thead>\n",
       "    <tr style=\"text-align: right;\">\n",
       "      <th></th>\n",
       "      <th>living_area</th>\n",
       "      <th>total_area</th>\n",
       "    </tr>\n",
       "  </thead>\n",
       "  <tbody>\n",
       "    <tr>\n",
       "      <th>454</th>\n",
       "      <td>12.7</td>\n",
       "      <td>51.6</td>\n",
       "    </tr>\n",
       "    <tr>\n",
       "      <th>11206</th>\n",
       "      <td>31.3</td>\n",
       "      <td>58.2</td>\n",
       "    </tr>\n",
       "    <tr>\n",
       "      <th>6484</th>\n",
       "      <td>15.0</td>\n",
       "      <td>37.0</td>\n",
       "    </tr>\n",
       "    <tr>\n",
       "      <th>21610</th>\n",
       "      <td>33.4</td>\n",
       "      <td>59.5</td>\n",
       "    </tr>\n",
       "    <tr>\n",
       "      <th>15182</th>\n",
       "      <td>30.0</td>\n",
       "      <td>46.0</td>\n",
       "    </tr>\n",
       "  </tbody>\n",
       "</table>\n",
       "</div>"
      ],
      "text/plain": [
       "       living_area  total_area\n",
       "454           12.7        51.6\n",
       "11206         31.3        58.2\n",
       "6484          15.0        37.0\n",
       "21610         33.4        59.5\n",
       "15182         30.0        46.0"
      ]
     },
     "execution_count": 15,
     "metadata": {},
     "output_type": "execute_result"
    }
   ],
   "source": [
    "area.sample(5)"
   ]
  },
  {
   "cell_type": "code",
   "execution_count": 16,
   "id": "4e1faf51-ba7b-4fcc-af5e-8dba0bd896f4",
   "metadata": {},
   "outputs": [],
   "source": [
    "area = area[area['living_area'].isna() == False]"
   ]
  },
  {
   "cell_type": "code",
   "execution_count": 17,
   "id": "a7385e7a-9086-431a-b5f9-64c840fc89b3",
   "metadata": {},
   "outputs": [
    {
     "data": {
      "text/html": [
       "<div>\n",
       "<style scoped>\n",
       "    .dataframe tbody tr th:only-of-type {\n",
       "        vertical-align: middle;\n",
       "    }\n",
       "\n",
       "    .dataframe tbody tr th {\n",
       "        vertical-align: top;\n",
       "    }\n",
       "\n",
       "    .dataframe thead th {\n",
       "        text-align: right;\n",
       "    }\n",
       "</style>\n",
       "<table border=\"1\" class=\"dataframe\">\n",
       "  <thead>\n",
       "    <tr style=\"text-align: right;\">\n",
       "      <th></th>\n",
       "      <th>living_area</th>\n",
       "      <th>total_area</th>\n",
       "    </tr>\n",
       "  </thead>\n",
       "  <tbody>\n",
       "    <tr>\n",
       "      <th>8865</th>\n",
       "      <td>27.0</td>\n",
       "      <td>45.0</td>\n",
       "    </tr>\n",
       "    <tr>\n",
       "      <th>17916</th>\n",
       "      <td>51.0</td>\n",
       "      <td>83.7</td>\n",
       "    </tr>\n",
       "    <tr>\n",
       "      <th>14607</th>\n",
       "      <td>43.0</td>\n",
       "      <td>64.0</td>\n",
       "    </tr>\n",
       "    <tr>\n",
       "      <th>1769</th>\n",
       "      <td>29.7</td>\n",
       "      <td>55.8</td>\n",
       "    </tr>\n",
       "    <tr>\n",
       "      <th>17284</th>\n",
       "      <td>17.0</td>\n",
       "      <td>38.0</td>\n",
       "    </tr>\n",
       "  </tbody>\n",
       "</table>\n",
       "</div>"
      ],
      "text/plain": [
       "       living_area  total_area\n",
       "8865          27.0        45.0\n",
       "17916         51.0        83.7\n",
       "14607         43.0        64.0\n",
       "1769          29.7        55.8\n",
       "17284         17.0        38.0"
      ]
     },
     "execution_count": 17,
     "metadata": {},
     "output_type": "execute_result"
    }
   ],
   "source": [
    "area.sample(5)"
   ]
  },
  {
   "cell_type": "code",
   "execution_count": 18,
   "id": "b159a84b-d34f-45fc-9806-3c31063e704a",
   "metadata": {},
   "outputs": [],
   "source": [
    "# Считаем процент жилой площади от общей\n",
    "area['procent_living_area'] = round(area['living_area'] / area['total_area'])"
   ]
  },
  {
   "cell_type": "code",
   "execution_count": 19,
   "id": "cd036a25-cb88-495c-809b-8630491a8dad",
   "metadata": {},
   "outputs": [
    {
     "name": "stdout",
     "output_type": "stream",
     "text": [
      "Процент жилой площади от общей: 0.73\n"
     ]
    }
   ],
   "source": [
    "print('Процент жилой площади от общей:', round(area['procent_living_area'].mean(), 2))"
   ]
  },
  {
   "cell_type": "code",
   "execution_count": 20,
   "id": "84bd6324-25ee-40a9-947b-2062bbf9d9c7",
   "metadata": {},
   "outputs": [],
   "source": [
    "area['living_area'] = area['living_area'].fillna(value=area['total_area'] * 0.73)"
   ]
  },
  {
   "cell_type": "code",
   "execution_count": 21,
   "id": "56985a8c-8c44-4f0b-8b50-9b3f3f247dda",
   "metadata": {},
   "outputs": [],
   "source": [
    "# Рассчитываем и заменяем нулевые значения\n",
    "df['living_area'] = df['living_area'].fillna(value=df['total_area'] * 0.73)"
   ]
  },
  {
   "cell_type": "code",
   "execution_count": 22,
   "id": "9b1267b8-469a-4186-8421-c59f9c3da5a8",
   "metadata": {},
   "outputs": [
    {
     "data": {
      "text/plain": [
       "0"
      ]
     },
     "execution_count": 22,
     "metadata": {},
     "output_type": "execute_result"
    }
   ],
   "source": [
    "df['living_area'].isna().sum()"
   ]
  },
  {
   "cell_type": "markdown",
   "id": "d81130ab-ad7a-4592-bb2a-aaa2958ce638",
   "metadata": {
    "jp-MarkdownHeadingCollapsed": true,
    "tags": []
   },
   "source": [
    "## Площадь кухни - замена на нули"
   ]
  },
  {
   "cell_type": "markdown",
   "id": "11c5099b",
   "metadata": {},
   "source": [
    "Не во всех квартирах есть отдельная кухня, соответственно, площадь кухи может равняться 0"
   ]
  },
  {
   "cell_type": "code",
   "execution_count": 23,
   "id": "d1d19872-4492-4c03-b58a-44a82eb4dbe9",
   "metadata": {},
   "outputs": [
    {
     "name": "stdout",
     "output_type": "stream",
     "text": [
      "Количество квартир с площадью кухни 0:  2278\n"
     ]
    }
   ],
   "source": [
    "print('Количество квартир с площадью кухни 0: ' ,df['kitchen_area'].isna().sum())"
   ]
  },
  {
   "cell_type": "code",
   "execution_count": 24,
   "id": "8563020f-320c-491a-949c-c03f6a9d0b51",
   "metadata": {},
   "outputs": [],
   "source": [
    "# Меняем NaN на 0\n",
    "df['kitchen_area'] = df['kitchen_area'].fillna(0)"
   ]
  },
  {
   "cell_type": "code",
   "execution_count": 25,
   "id": "080a2acb-5c88-4310-a329-c87623239f49",
   "metadata": {},
   "outputs": [
    {
     "data": {
      "text/plain": [
       "0"
      ]
     },
     "execution_count": 25,
     "metadata": {},
     "output_type": "execute_result"
    }
   ],
   "source": [
    "df['kitchen_area'].isna().sum()"
   ]
  },
  {
   "cell_type": "markdown",
   "id": "0d8121e9-c9a2-478f-983c-c7ea0a13d847",
   "metadata": {
    "jp-MarkdownHeadingCollapsed": true,
    "tags": []
   },
   "source": [
    "## Количество балконов - замена на нули"
   ]
  },
  {
   "cell_type": "code",
   "execution_count": 26,
   "id": "ec9b303a-988e-45d5-b9db-3a574a0117fb",
   "metadata": {},
   "outputs": [
    {
     "data": {
      "text/plain": [
       "1.0    4195\n",
       "0.0    3758\n",
       "2.0    3659\n",
       "5.0     304\n",
       "4.0     183\n",
       "3.0      81\n",
       "Name: balcony, dtype: int64"
      ]
     },
     "execution_count": 26,
     "metadata": {},
     "output_type": "execute_result"
    }
   ],
   "source": [
    "# Возможно, что данные заполнены по следующему принципу: 1 - балкон есть, 0 - балкона нет\n",
    "df['balcony'].value_counts()"
   ]
  },
  {
   "cell_type": "code",
   "execution_count": 27,
   "id": "77eeae31-5f18-4cdf-a461-2ba8b1fcabba",
   "metadata": {
    "scrolled": true
   },
   "outputs": [
    {
     "name": "stdout",
     "output_type": "stream",
     "text": [
      "Количество NaN в столбце balcony: 0\n"
     ]
    }
   ],
   "source": [
    "# предпологаю, что пользователи просто не указывали количество балконов, если их не было\n",
    "# заменим NaN на 0\n",
    "df['balcony'] = df['balcony'].fillna(0)\n",
    "print('Количество NaN в столбце balcony:', df['balcony'].isnull().sum())"
   ]
  },
  {
   "cell_type": "markdown",
   "id": "69931519",
   "metadata": {},
   "source": [
    "## Парки и пруды рядом"
   ]
  },
  {
   "cell_type": "markdown",
   "id": "6743aa91",
   "metadata": {},
   "source": [
    "parks_nearest, ponds_nearest - возможно, пользователи не знают таких параметров. Мы не можем проставить какое - то адекватное расстояние, которое не испортит статистику. Предлагаю оставить эти столбцы без изменения. Есть достаточное количество строк, где данные присутствуют, по ним можно срез и вывести определенные зависимости."
   ]
  },
  {
   "cell_type": "markdown",
   "id": "30b2794c-8ada-40f3-a29f-fa6bd8b8e020",
   "metadata": {
    "jp-MarkdownHeadingCollapsed": true,
    "tags": []
   },
   "source": [
    "## Число дней размещения"
   ]
  },
  {
   "cell_type": "code",
   "execution_count": 28,
   "id": "fcbd2b8e-9e93-430a-b348-12a1b1866d64",
   "metadata": {},
   "outputs": [
    {
     "data": {
      "text/plain": [
       "count    20518.000000\n",
       "mean       180.888634\n",
       "std        219.727988\n",
       "min          1.000000\n",
       "25%         45.000000\n",
       "50%         95.000000\n",
       "75%        232.000000\n",
       "max       1580.000000\n",
       "Name: days_exposition, dtype: float64"
      ]
     },
     "execution_count": 28,
     "metadata": {},
     "output_type": "execute_result"
    }
   ],
   "source": [
    "df['days_exposition'].describe()"
   ]
  },
  {
   "cell_type": "markdown",
   "id": "a579094c-a04e-40bb-b1de-3b6621454030",
   "metadata": {},
   "source": [
    "\n",
    "## Изменение типов данных"
   ]
  },
  {
   "cell_type": "code",
   "execution_count": 29,
   "id": "2ea88eee-fddb-4da1-b689-eacbf88ef58f",
   "metadata": {},
   "outputs": [],
   "source": [
    "df['last_price'] = df['last_price'].astype(int)\n",
    "df['total_area'] = df['total_area'].astype(int)\n",
    "#df['days_exposition'] = df['days_exposition'].astype(int)"
   ]
  },
  {
   "cell_type": "code",
   "execution_count": 30,
   "id": "b158d524",
   "metadata": {},
   "outputs": [
    {
     "name": "stdout",
     "output_type": "stream",
     "text": [
      "<class 'pandas.core.frame.DataFrame'>\n",
      "RangeIndex: 23699 entries, 0 to 23698\n",
      "Data columns (total 22 columns):\n",
      " #   Column                Non-Null Count  Dtype  \n",
      "---  ------                --------------  -----  \n",
      " 0   total_images          23699 non-null  int64  \n",
      " 1   last_price            23699 non-null  int64  \n",
      " 2   total_area            23699 non-null  int64  \n",
      " 3   first_day_exposition  23699 non-null  object \n",
      " 4   rooms                 23699 non-null  int64  \n",
      " 5   ceiling_height        23699 non-null  float64\n",
      " 6   floors_total          23613 non-null  float64\n",
      " 7   living_area           23699 non-null  float64\n",
      " 8   floor                 23699 non-null  int64  \n",
      " 9   is_apartment          2775 non-null   object \n",
      " 10  studio                23699 non-null  bool   \n",
      " 11  open_plan             23699 non-null  bool   \n",
      " 12  kitchen_area          23699 non-null  float64\n",
      " 13  balcony               23699 non-null  float64\n",
      " 14  locality_name         23650 non-null  object \n",
      " 15  airports_nearest      18157 non-null  float64\n",
      " 16  cityCenters_nearest   18180 non-null  float64\n",
      " 17  parks_around3000      18181 non-null  float64\n",
      " 18  parks_nearest         8079 non-null   float64\n",
      " 19  ponds_around3000      18181 non-null  float64\n",
      " 20  ponds_nearest         9110 non-null   float64\n",
      " 21  days_exposition       20518 non-null  float64\n",
      "dtypes: bool(2), float64(12), int64(5), object(3)\n",
      "memory usage: 3.7+ MB\n"
     ]
    }
   ],
   "source": [
    "df.info()"
   ]
  },
  {
   "cell_type": "markdown",
   "id": "466891b5",
   "metadata": {},
   "source": [
    "## Число пропусков после обработки"
   ]
  },
  {
   "cell_type": "code",
   "execution_count": 31,
   "id": "a1b50db0",
   "metadata": {},
   "outputs": [
    {
     "data": {
      "image/png": "[encoded data removed]",
      "text/plain": [
       "<Figure size 1224x576 with 1 Axes>"
      ]
     },
     "metadata": {
      "needs_background": "light"
     },
     "output_type": "display_data"
    }
   ],
   "source": [
    "plot, threshold = percent_hbar(df)"
   ]
  },
  {
   "cell_type": "markdown",
   "id": "bd9c0b51",
   "metadata": {},
   "source": [
    "# Шаг 3. Посчитайте и добавьте данные в таблицу"
   ]
  },
  {
   "cell_type": "markdown",
   "id": "5cd8eaab",
   "metadata": {},
   "source": [
    "###  3.1 Добавление цены за квадратный метр"
   ]
  },
  {
   "cell_type": "code",
   "execution_count": 32,
   "id": "57ed383b",
   "metadata": {},
   "outputs": [
    {
     "data": {
      "text/html": [
       "<div>\n",
       "<style scoped>\n",
       "    .dataframe tbody tr th:only-of-type {\n",
       "        vertical-align: middle;\n",
       "    }\n",
       "\n",
       "    .dataframe tbody tr th {\n",
       "        vertical-align: top;\n",
       "    }\n",
       "\n",
       "    .dataframe thead th {\n",
       "        text-align: right;\n",
       "    }\n",
       "</style>\n",
       "<table border=\"1\" class=\"dataframe\">\n",
       "  <thead>\n",
       "    <tr style=\"text-align: right;\">\n",
       "      <th></th>\n",
       "      <th>total_images</th>\n",
       "      <th>last_price</th>\n",
       "      <th>total_area</th>\n",
       "      <th>first_day_exposition</th>\n",
       "      <th>rooms</th>\n",
       "      <th>ceiling_height</th>\n",
       "      <th>floors_total</th>\n",
       "      <th>living_area</th>\n",
       "      <th>floor</th>\n",
       "      <th>is_apartment</th>\n",
       "      <th>...</th>\n",
       "      <th>balcony</th>\n",
       "      <th>locality_name</th>\n",
       "      <th>airports_nearest</th>\n",
       "      <th>cityCenters_nearest</th>\n",
       "      <th>parks_around3000</th>\n",
       "      <th>parks_nearest</th>\n",
       "      <th>ponds_around3000</th>\n",
       "      <th>ponds_nearest</th>\n",
       "      <th>days_exposition</th>\n",
       "      <th>cost_per_square</th>\n",
       "    </tr>\n",
       "  </thead>\n",
       "  <tbody>\n",
       "    <tr>\n",
       "      <th>18073</th>\n",
       "      <td>4</td>\n",
       "      <td>3650000</td>\n",
       "      <td>39</td>\n",
       "      <td>2017-05-09T00:00:00</td>\n",
       "      <td>1</td>\n",
       "      <td>2.65</td>\n",
       "      <td>14.0</td>\n",
       "      <td>20.0</td>\n",
       "      <td>9</td>\n",
       "      <td>False</td>\n",
       "      <td>...</td>\n",
       "      <td>1.0</td>\n",
       "      <td>Санкт-Петербург</td>\n",
       "      <td>33877.0</td>\n",
       "      <td>14921.0</td>\n",
       "      <td>0.0</td>\n",
       "      <td>NaN</td>\n",
       "      <td>2.0</td>\n",
       "      <td>124.0</td>\n",
       "      <td>36.0</td>\n",
       "      <td>93589.743590</td>\n",
       "    </tr>\n",
       "    <tr>\n",
       "      <th>21953</th>\n",
       "      <td>14</td>\n",
       "      <td>4000000</td>\n",
       "      <td>43</td>\n",
       "      <td>2017-04-20T00:00:00</td>\n",
       "      <td>2</td>\n",
       "      <td>2.65</td>\n",
       "      <td>5.0</td>\n",
       "      <td>27.9</td>\n",
       "      <td>2</td>\n",
       "      <td>NaN</td>\n",
       "      <td>...</td>\n",
       "      <td>0.0</td>\n",
       "      <td>Санкт-Петербург</td>\n",
       "      <td>9920.0</td>\n",
       "      <td>11152.0</td>\n",
       "      <td>0.0</td>\n",
       "      <td>NaN</td>\n",
       "      <td>0.0</td>\n",
       "      <td>NaN</td>\n",
       "      <td>60.0</td>\n",
       "      <td>93023.255814</td>\n",
       "    </tr>\n",
       "  </tbody>\n",
       "</table>\n",
       "<p>2 rows × 23 columns</p>\n",
       "</div>"
      ],
      "text/plain": [
       "       total_images  last_price  total_area first_day_exposition  rooms  \\\n",
       "18073             4     3650000          39  2017-05-09T00:00:00      1   \n",
       "21953            14     4000000          43  2017-04-20T00:00:00      2   \n",
       "\n",
       "       ceiling_height  floors_total  living_area  floor is_apartment  ...  \\\n",
       "18073            2.65          14.0         20.0      9        False  ...   \n",
       "21953            2.65           5.0         27.9      2          NaN  ...   \n",
       "\n",
       "       balcony    locality_name  airports_nearest  cityCenters_nearest  \\\n",
       "18073      1.0  Санкт-Петербург           33877.0              14921.0   \n",
       "21953      0.0  Санкт-Петербург            9920.0              11152.0   \n",
       "\n",
       "      parks_around3000  parks_nearest  ponds_around3000  ponds_nearest  \\\n",
       "18073              0.0            NaN               2.0          124.0   \n",
       "21953              0.0            NaN               0.0            NaN   \n",
       "\n",
       "       days_exposition  cost_per_square  \n",
       "18073             36.0     93589.743590  \n",
       "21953             60.0     93023.255814  \n",
       "\n",
       "[2 rows x 23 columns]"
      ]
     },
     "execution_count": 32,
     "metadata": {},
     "output_type": "execute_result"
    }
   ],
   "source": [
    "df['cost_per_square'] = df.last_price/df.total_area\n",
    "df.sample(2)"
   ]
  },
  {
   "cell_type": "markdown",
   "id": "088d2de7",
   "metadata": {},
   "source": [
    "### 3.2 Добавление деня недели, месяца и года публикации объявления"
   ]
  },
  {
   "cell_type": "code",
   "execution_count": 33,
   "id": "48f765cb",
   "metadata": {},
   "outputs": [
    {
     "data": {
      "text/html": [
       "<div>\n",
       "<style scoped>\n",
       "    .dataframe tbody tr th:only-of-type {\n",
       "        vertical-align: middle;\n",
       "    }\n",
       "\n",
       "    .dataframe tbody tr th {\n",
       "        vertical-align: top;\n",
       "    }\n",
       "\n",
       "    .dataframe thead th {\n",
       "        text-align: right;\n",
       "    }\n",
       "</style>\n",
       "<table border=\"1\" class=\"dataframe\">\n",
       "  <thead>\n",
       "    <tr style=\"text-align: right;\">\n",
       "      <th></th>\n",
       "      <th>total_images</th>\n",
       "      <th>last_price</th>\n",
       "      <th>total_area</th>\n",
       "      <th>first_day_exposition</th>\n",
       "      <th>rooms</th>\n",
       "      <th>ceiling_height</th>\n",
       "      <th>floors_total</th>\n",
       "      <th>living_area</th>\n",
       "      <th>floor</th>\n",
       "      <th>is_apartment</th>\n",
       "      <th>...</th>\n",
       "      <th>cityCenters_nearest</th>\n",
       "      <th>parks_around3000</th>\n",
       "      <th>parks_nearest</th>\n",
       "      <th>ponds_around3000</th>\n",
       "      <th>ponds_nearest</th>\n",
       "      <th>days_exposition</th>\n",
       "      <th>cost_per_square</th>\n",
       "      <th>dayweek_exposition</th>\n",
       "      <th>month_exposition</th>\n",
       "      <th>year_exposition</th>\n",
       "    </tr>\n",
       "  </thead>\n",
       "  <tbody>\n",
       "    <tr>\n",
       "      <th>20110</th>\n",
       "      <td>12</td>\n",
       "      <td>6000000</td>\n",
       "      <td>53</td>\n",
       "      <td>2016-12-16</td>\n",
       "      <td>2</td>\n",
       "      <td>2.65</td>\n",
       "      <td>5.0</td>\n",
       "      <td>38.69</td>\n",
       "      <td>1</td>\n",
       "      <td>NaN</td>\n",
       "      <td>...</td>\n",
       "      <td>30654.0</td>\n",
       "      <td>1.0</td>\n",
       "      <td>401.0</td>\n",
       "      <td>1.0</td>\n",
       "      <td>882.0</td>\n",
       "      <td>330.0</td>\n",
       "      <td>113207.547170</td>\n",
       "      <td>4</td>\n",
       "      <td>12</td>\n",
       "      <td>2016</td>\n",
       "    </tr>\n",
       "    <tr>\n",
       "      <th>7233</th>\n",
       "      <td>10</td>\n",
       "      <td>2690000</td>\n",
       "      <td>54</td>\n",
       "      <td>2017-11-07</td>\n",
       "      <td>3</td>\n",
       "      <td>2.65</td>\n",
       "      <td>5.0</td>\n",
       "      <td>37.50</td>\n",
       "      <td>3</td>\n",
       "      <td>NaN</td>\n",
       "      <td>...</td>\n",
       "      <td>NaN</td>\n",
       "      <td>NaN</td>\n",
       "      <td>NaN</td>\n",
       "      <td>NaN</td>\n",
       "      <td>NaN</td>\n",
       "      <td>15.0</td>\n",
       "      <td>49814.814815</td>\n",
       "      <td>1</td>\n",
       "      <td>11</td>\n",
       "      <td>2017</td>\n",
       "    </tr>\n",
       "  </tbody>\n",
       "</table>\n",
       "<p>2 rows × 26 columns</p>\n",
       "</div>"
      ],
      "text/plain": [
       "       total_images  last_price  total_area first_day_exposition  rooms  \\\n",
       "20110            12     6000000          53           2016-12-16      2   \n",
       "7233             10     2690000          54           2017-11-07      3   \n",
       "\n",
       "       ceiling_height  floors_total  living_area  floor is_apartment  ...  \\\n",
       "20110            2.65           5.0        38.69      1          NaN  ...   \n",
       "7233             2.65           5.0        37.50      3          NaN  ...   \n",
       "\n",
       "       cityCenters_nearest  parks_around3000  parks_nearest  ponds_around3000  \\\n",
       "20110              30654.0               1.0          401.0               1.0   \n",
       "7233                   NaN               NaN            NaN               NaN   \n",
       "\n",
       "      ponds_nearest  days_exposition  cost_per_square  dayweek_exposition  \\\n",
       "20110         882.0            330.0    113207.547170                   4   \n",
       "7233            NaN             15.0     49814.814815                   1   \n",
       "\n",
       "       month_exposition  year_exposition  \n",
       "20110                12             2016  \n",
       "7233                 11             2017  \n",
       "\n",
       "[2 rows x 26 columns]"
      ]
     },
     "execution_count": 33,
     "metadata": {},
     "output_type": "execute_result"
    }
   ],
   "source": [
    "df['first_day_exposition'] = pd.to_datetime(df['first_day_exposition'], format='%Y-%m-%dT%H:%M:%S')\n",
    "df['dayweek_exposition'] = pd.DatetimeIndex(df['first_day_exposition']).weekday\n",
    "df['month_exposition'] = pd.DatetimeIndex(df['first_day_exposition']).month\n",
    "df['year_exposition'] = pd.DatetimeIndex(df['first_day_exposition']).year\n",
    "df.sample(2)"
   ]
  },
  {
   "cell_type": "markdown",
   "id": "4909c6c3",
   "metadata": {},
   "source": [
    "### 3.3 Добавление категории этажности кваритры"
   ]
  },
  {
   "cell_type": "code",
   "execution_count": 34,
   "id": "b0237538",
   "metadata": {},
   "outputs": [
    {
     "data": {
      "text/html": [
       "<div>\n",
       "<style scoped>\n",
       "    .dataframe tbody tr th:only-of-type {\n",
       "        vertical-align: middle;\n",
       "    }\n",
       "\n",
       "    .dataframe tbody tr th {\n",
       "        vertical-align: top;\n",
       "    }\n",
       "\n",
       "    .dataframe thead th {\n",
       "        text-align: right;\n",
       "    }\n",
       "</style>\n",
       "<table border=\"1\" class=\"dataframe\">\n",
       "  <thead>\n",
       "    <tr style=\"text-align: right;\">\n",
       "      <th></th>\n",
       "      <th>locality_name</th>\n",
       "      <th>count_announcement</th>\n",
       "      <th>cost_per_square</th>\n",
       "    </tr>\n",
       "  </thead>\n",
       "  <tbody>\n",
       "    <tr>\n",
       "      <th>0</th>\n",
       "      <td>Санкт-Петербург</td>\n",
       "      <td>15721</td>\n",
       "      <td>115347.722976</td>\n",
       "    </tr>\n",
       "    <tr>\n",
       "      <th>1</th>\n",
       "      <td>поселок Мурино</td>\n",
       "      <td>556</td>\n",
       "      <td>86312.033181</td>\n",
       "    </tr>\n",
       "    <tr>\n",
       "      <th>2</th>\n",
       "      <td>поселок Шушары</td>\n",
       "      <td>440</td>\n",
       "      <td>79068.602928</td>\n",
       "    </tr>\n",
       "    <tr>\n",
       "      <th>3</th>\n",
       "      <td>Всеволожск</td>\n",
       "      <td>398</td>\n",
       "      <td>68985.235455</td>\n",
       "    </tr>\n",
       "    <tr>\n",
       "      <th>4</th>\n",
       "      <td>Пушкин</td>\n",
       "      <td>369</td>\n",
       "      <td>103611.362825</td>\n",
       "    </tr>\n",
       "    <tr>\n",
       "      <th>5</th>\n",
       "      <td>Колпино</td>\n",
       "      <td>338</td>\n",
       "      <td>75735.589833</td>\n",
       "    </tr>\n",
       "    <tr>\n",
       "      <th>6</th>\n",
       "      <td>поселок Парголово</td>\n",
       "      <td>327</td>\n",
       "      <td>90675.627757</td>\n",
       "    </tr>\n",
       "    <tr>\n",
       "      <th>7</th>\n",
       "      <td>Гатчина</td>\n",
       "      <td>307</td>\n",
       "      <td>69045.519030</td>\n",
       "    </tr>\n",
       "    <tr>\n",
       "      <th>8</th>\n",
       "      <td>деревня Кудрово</td>\n",
       "      <td>299</td>\n",
       "      <td>93002.173472</td>\n",
       "    </tr>\n",
       "    <tr>\n",
       "      <th>9</th>\n",
       "      <td>Выборг</td>\n",
       "      <td>237</td>\n",
       "      <td>58296.119480</td>\n",
       "    </tr>\n",
       "  </tbody>\n",
       "</table>\n",
       "</div>"
      ],
      "text/plain": [
       "       locality_name  count_announcement  cost_per_square\n",
       "0    Санкт-Петербург               15721    115347.722976\n",
       "1     поселок Мурино                 556     86312.033181\n",
       "2     поселок Шушары                 440     79068.602928\n",
       "3         Всеволожск                 398     68985.235455\n",
       "4             Пушкин                 369    103611.362825\n",
       "5            Колпино                 338     75735.589833\n",
       "6  поселок Парголово                 327     90675.627757\n",
       "7            Гатчина                 307     69045.519030\n",
       "8    деревня Кудрово                 299     93002.173472\n",
       "9             Выборг                 237     58296.119480"
      ]
     },
     "execution_count": 34,
     "metadata": {},
     "output_type": "execute_result"
    }
   ],
   "source": [
    "top_10 = (df.value_counts('locality_name', ascending =  False).head(10)\n",
    "    .to_frame().reset_index()\n",
    "    .merge(df.groupby('locality_name')['cost_per_square'].mean(), on = 'locality_name', how = 'left')\n",
    "    .rename(columns = {0 : 'count_announcement'}))\n",
    "top_10"
   ]
  },
  {
   "cell_type": "markdown",
   "id": "a5da3468",
   "metadata": {},
   "source": [
    "### 3.4 Добравление соотношения жилой и общей площади, а также отношение площади кухни к общей"
   ]
  },
  {
   "cell_type": "code",
   "execution_count": 35,
   "id": "1ff46b62",
   "metadata": {},
   "outputs": [
    {
     "data": {
      "text/html": [
       "<div>\n",
       "<style scoped>\n",
       "    .dataframe tbody tr th:only-of-type {\n",
       "        vertical-align: middle;\n",
       "    }\n",
       "\n",
       "    .dataframe tbody tr th {\n",
       "        vertical-align: top;\n",
       "    }\n",
       "\n",
       "    .dataframe thead th {\n",
       "        text-align: right;\n",
       "    }\n",
       "</style>\n",
       "<table border=\"1\" class=\"dataframe\">\n",
       "  <thead>\n",
       "    <tr style=\"text-align: right;\">\n",
       "      <th></th>\n",
       "      <th>total_images</th>\n",
       "      <th>last_price</th>\n",
       "      <th>total_area</th>\n",
       "      <th>first_day_exposition</th>\n",
       "      <th>rooms</th>\n",
       "      <th>ceiling_height</th>\n",
       "      <th>floors_total</th>\n",
       "      <th>living_area</th>\n",
       "      <th>floor</th>\n",
       "      <th>is_apartment</th>\n",
       "      <th>...</th>\n",
       "      <th>parks_nearest</th>\n",
       "      <th>ponds_around3000</th>\n",
       "      <th>ponds_nearest</th>\n",
       "      <th>days_exposition</th>\n",
       "      <th>cost_per_square</th>\n",
       "      <th>dayweek_exposition</th>\n",
       "      <th>month_exposition</th>\n",
       "      <th>year_exposition</th>\n",
       "      <th>ratio_residential_and_total_area</th>\n",
       "      <th>ratio_kitchen_area_total</th>\n",
       "    </tr>\n",
       "  </thead>\n",
       "  <tbody>\n",
       "    <tr>\n",
       "      <th>12662</th>\n",
       "      <td>19</td>\n",
       "      <td>5690000</td>\n",
       "      <td>56</td>\n",
       "      <td>2017-12-27</td>\n",
       "      <td>2</td>\n",
       "      <td>2.65</td>\n",
       "      <td>5.0</td>\n",
       "      <td>40.88</td>\n",
       "      <td>3</td>\n",
       "      <td>NaN</td>\n",
       "      <td>...</td>\n",
       "      <td>832.0</td>\n",
       "      <td>3.0</td>\n",
       "      <td>336.0</td>\n",
       "      <td>60.0</td>\n",
       "      <td>101607.142857</td>\n",
       "      <td>2</td>\n",
       "      <td>12</td>\n",
       "      <td>2017</td>\n",
       "      <td>0.730000</td>\n",
       "      <td>0.00</td>\n",
       "    </tr>\n",
       "    <tr>\n",
       "      <th>7183</th>\n",
       "      <td>9</td>\n",
       "      <td>3180000</td>\n",
       "      <td>30</td>\n",
       "      <td>2018-09-06</td>\n",
       "      <td>1</td>\n",
       "      <td>2.70</td>\n",
       "      <td>9.0</td>\n",
       "      <td>14.00</td>\n",
       "      <td>5</td>\n",
       "      <td>NaN</td>\n",
       "      <td>...</td>\n",
       "      <td>NaN</td>\n",
       "      <td>1.0</td>\n",
       "      <td>683.0</td>\n",
       "      <td>96.0</td>\n",
       "      <td>106000.000000</td>\n",
       "      <td>3</td>\n",
       "      <td>9</td>\n",
       "      <td>2018</td>\n",
       "      <td>0.466667</td>\n",
       "      <td>0.26</td>\n",
       "    </tr>\n",
       "  </tbody>\n",
       "</table>\n",
       "<p>2 rows × 28 columns</p>\n",
       "</div>"
      ],
      "text/plain": [
       "       total_images  last_price  total_area first_day_exposition  rooms  \\\n",
       "12662            19     5690000          56           2017-12-27      2   \n",
       "7183              9     3180000          30           2018-09-06      1   \n",
       "\n",
       "       ceiling_height  floors_total  living_area  floor is_apartment  ...  \\\n",
       "12662            2.65           5.0        40.88      3          NaN  ...   \n",
       "7183             2.70           9.0        14.00      5          NaN  ...   \n",
       "\n",
       "       parks_nearest  ponds_around3000  ponds_nearest  days_exposition  \\\n",
       "12662          832.0               3.0          336.0             60.0   \n",
       "7183             NaN               1.0          683.0             96.0   \n",
       "\n",
       "      cost_per_square  dayweek_exposition  month_exposition  year_exposition  \\\n",
       "12662   101607.142857                   2                12             2017   \n",
       "7183    106000.000000                   3                 9             2018   \n",
       "\n",
       "       ratio_residential_and_total_area  ratio_kitchen_area_total  \n",
       "12662                          0.730000                      0.00  \n",
       "7183                           0.466667                      0.26  \n",
       "\n",
       "[2 rows x 28 columns]"
      ]
     },
     "execution_count": 35,
     "metadata": {},
     "output_type": "execute_result"
    }
   ],
   "source": [
    "df['ratio_residential_and_total_area'] = df['living_area'] / df['total_area']\n",
    "df['ratio_kitchen_area_total'] = df['kitchen_area'] / df['total_area']\n",
    "df.sample(2)"
   ]
  },
  {
   "cell_type": "markdown",
   "id": "676e57f4",
   "metadata": {},
   "source": [
    "# Шаг 4. Проведите исследовательский анализ данных и выполните инструкции"
   ]
  },
  {
   "cell_type": "markdown",
   "id": "71e740d0",
   "metadata": {},
   "source": [
    "### 4.1 Изучите следующие параметры: площадь, цена, число комнат, высота потолков. Постройте гистограммы для каждого параметра."
   ]
  },
  {
   "cell_type": "code",
   "execution_count": 36,
   "id": "ff395b3c",
   "metadata": {},
   "outputs": [
    {
     "name": "stdout",
     "output_type": "stream",
     "text": [
      "\n",
      "Распределение параметра \"ОБЩАЯ ПЛОЩАДЬ\"\n"
     ]
    },
    {
     "data": {
      "image/png": "[encoded data removed]",
      "text/plain": [
       "<Figure size 720x432 with 1 Axes>"
      ]
     },
     "metadata": {
      "needs_background": "light"
     },
     "output_type": "display_data"
    }
   ],
   "source": [
    "def get_hist(data, col, title):\n",
    "    print(f'\\nРаспределение параметра \"{title.upper()}\"')\n",
    "    data[col].hist(figsize=(10,6), bins=20);\n",
    "    \n",
    "    \n",
    "get_hist(df, 'total_area', 'общая площадь')"
   ]
  },
  {
   "cell_type": "code",
   "execution_count": 37,
   "id": "712bee57",
   "metadata": {},
   "outputs": [
    {
     "name": "stdout",
     "output_type": "stream",
     "text": [
      "\n",
      "Распределение параметра \"ОБЩАЯ ПЛОЩАДЬ ДО 200 КВ.М.\"\n"
     ]
    },
    {
     "data": {
      "image/png": "[encoded data removed]",
      "text/plain": [
       "<Figure size 720x432 with 1 Axes>"
      ]
     },
     "metadata": {
      "needs_background": "light"
     },
     "output_type": "display_data"
    }
   ],
   "source": [
    "get_hist(df[df.total_area < 200], 'total_area', 'общая площадь до 200 кв.м.')"
   ]
  },
  {
   "cell_type": "markdown",
   "id": "53261dcb",
   "metadata": {},
   "source": [
    "Подавляющее большинство квартир находятся в диапазоне от 30 до 75 кв.м. Это может означать, что больше всего спросом пользуются маленькие квартиры до 75 кв.м."
   ]
  },
  {
   "cell_type": "code",
   "execution_count": 38,
   "id": "725b2546",
   "metadata": {},
   "outputs": [
    {
     "name": "stdout",
     "output_type": "stream",
     "text": [
      "\n",
      "Распределение параметра \"СТОИМОСТЬ ОБЪЕКТА НЕДВИЖИМОСТИ\"\n"
     ]
    },
    {
     "data": {
      "image/png": "[encoded data removed]",
      "text/plain": [
       "<Figure size 720x432 with 1 Axes>"
      ]
     },
     "metadata": {
      "needs_background": "light"
     },
     "output_type": "display_data"
    }
   ],
   "source": [
    "get_hist(df, 'last_price', 'стоимость объекта недвижимости')"
   ]
  },
  {
   "cell_type": "code",
   "execution_count": 57,
   "id": "e832f022",
   "metadata": {},
   "outputs": [
    {
     "name": "stdout",
     "output_type": "stream",
     "text": [
      "\n",
      "Распределение параметра \"СТОИМОСТЬ ОБЪЕКТА НЕДВИЖИМОСТИ - ДО 2 МЛН\"\n"
     ]
    },
    {
     "data": {
      "image/png": "[encoded data removed]",
      "text/plain": [
       "<Figure size 720x432 with 1 Axes>"
      ]
     },
     "metadata": {
      "needs_background": "light"
     },
     "output_type": "display_data"
    }
   ],
   "source": [
    "get_hist(df[df.last_price < 10000000], 'last_price', 'стоимость объекта недвижимости - до 2 млн')"
   ]
  },
  {
   "cell_type": "markdown",
   "id": "f6fddac5",
   "metadata": {},
   "source": [
    "С учеличением цены квартиры, растет количество объявлений до 2млн. После 4млн идет спад количества объявлений о продаже квартир."
   ]
  },
  {
   "cell_type": "code",
   "execution_count": 40,
   "id": "5e093357",
   "metadata": {},
   "outputs": [
    {
     "name": "stdout",
     "output_type": "stream",
     "text": [
      "\n",
      "Распределение параметра \"СТОИМОСТЬ ОБЪЕКТА НЕДВИЖИМОСТИ БОЛЕЕ 50 МЛН\"\n"
     ]
    },
    {
     "data": {
      "image/png": "[encoded data removed]",
      "text/plain": [
       "<Figure size 720x432 with 1 Axes>"
      ]
     },
     "metadata": {
      "needs_background": "light"
     },
     "output_type": "display_data"
    }
   ],
   "source": [
    "get_hist(df[df.last_price > 50000000], 'last_price', 'стоимость объекта недвижимости более 50 млн')"
   ]
  },
  {
   "cell_type": "code",
   "execution_count": 41,
   "id": "5e54d9c6",
   "metadata": {
    "scrolled": false
   },
   "outputs": [
    {
     "name": "stdout",
     "output_type": "stream",
     "text": [
      "\n",
      "Распределение параметра \"ВЫСОТА ПОТОЛКОВ\"\n"
     ]
    },
    {
     "data": {
      "image/png": "[encoded data removed]",
      "text/plain": [
       "<Figure size 720x432 with 1 Axes>"
      ]
     },
     "metadata": {
      "needs_background": "light"
     },
     "output_type": "display_data"
    }
   ],
   "source": [
    "get_hist(df, 'ceiling_height', 'высота потолков')"
   ]
  },
  {
   "cell_type": "markdown",
   "id": "750c0e5f",
   "metadata": {},
   "source": [
    "Потолки меньше 2.25м не встречаются, потому что по госту высота потолков не может быть меньше 2.25м. Большинство квартир продается с потолками от 2.5 до 2.65"
   ]
  },
  {
   "cell_type": "markdown",
   "id": "45867672",
   "metadata": {},
   "source": [
    "### 4.2 Время продажи квартиры"
   ]
  },
  {
   "cell_type": "code",
   "execution_count": 42,
   "id": "7d9d590d",
   "metadata": {},
   "outputs": [
    {
     "data": {
      "image/png": "[encoded data removed]",
      "text/plain": [
       "<Figure size 936x360 with 1 Axes>"
      ]
     },
     "metadata": {
      "needs_background": "light"
     },
     "output_type": "display_data"
    }
   ],
   "source": [
    "plt.figure(figsize=(13, 5))\n",
    "plt.hist(df['days_exposition'], bins=40)\n",
    "\n",
    "plt.title('Распределение длительности продажи квартир')\n",
    "plt.xlabel('Количество дней')\n",
    "plt.ylabel('Количество квартир');"
   ]
  },
  {
   "cell_type": "code",
   "execution_count": 43,
   "id": "155e0f0c",
   "metadata": {},
   "outputs": [
    {
     "name": "stdout",
     "output_type": "stream",
     "text": [
      "Среднее времени продажи квартиры 181.0\n",
      "Медиана времени продажи квартиры 95.0\n"
     ]
    }
   ],
   "source": [
    "print('Среднее времени продажи квартиры' ,round(df['days_exposition'].mean(), 0))\n",
    "print('Медиана времени продажи квартиры' ,df['days_exposition'].median())"
   ]
  },
  {
   "cell_type": "code",
   "execution_count": 44,
   "id": "ddb765b2",
   "metadata": {},
   "outputs": [
    {
     "data": {
      "text/plain": [
       "False    23572\n",
       "True       127\n",
       "Name: days_exposition, dtype: int64"
      ]
     },
     "execution_count": 44,
     "metadata": {},
     "output_type": "execute_result"
    }
   ],
   "source": [
    "(df['days_exposition'] == 10).value_counts()"
   ]
  },
  {
   "cell_type": "markdown",
   "id": "f3adc4cd",
   "metadata": {},
   "source": [
    "В среднем, продажа квартиры занимает 95 дней. Чуть меньше половины квартир были проданы за это количество дней и меньше.\n",
    "\n",
    "Можно считать, что продажи прошли очень быстро, когда время размещения объявления оказалось меньше 45 дней, т.к. это меньше длительности размещения 75% квартир.\n",
    "В обратном случае, продажу квартиры можно считать слишком долгой, если её продавали 600 дней и больше."
   ]
  },
  {
   "cell_type": "markdown",
   "id": "f7ee3cea",
   "metadata": {},
   "source": [
    "### 4.3 Уберем редкие и выбивающиеся значения"
   ]
  },
  {
   "cell_type": "code",
   "execution_count": 45,
   "id": "c5ae80fc",
   "metadata": {},
   "outputs": [],
   "source": [
    "# Уберем аномально большие сроки выставления квартиры, т.к. это выбросы\n",
    "df = df[df['days_exposition'] < 600]"
   ]
  },
  {
   "cell_type": "code",
   "execution_count": 46,
   "id": "b6b43318",
   "metadata": {},
   "outputs": [
    {
     "data": {
      "image/png": "[encoded data removed]",
      "text/plain": [
       "<Figure size 936x360 with 1 Axes>"
      ]
     },
     "metadata": {
      "needs_background": "light"
     },
     "output_type": "display_data"
    }
   ],
   "source": [
    "# Посмотрим гистограмму получившихся данных\n",
    "plt.figure(figsize=(13, 5))\n",
    "plt.hist(df['days_exposition'], bins=40)\n",
    "\n",
    "plt.title('Распределение длительности продажи квартир')\n",
    "plt.xlabel('Количество дней')\n",
    "plt.ylabel('Количество квартир');"
   ]
  },
  {
   "cell_type": "code",
   "execution_count": 47,
   "id": "25297735",
   "metadata": {
    "scrolled": true
   },
   "outputs": [
    {
     "name": "stdout",
     "output_type": "stream",
     "text": [
      "Среднее времени продажи квартиры 139.0\n",
      "Медиана времени продажи квартиры 89.0\n"
     ]
    }
   ],
   "source": [
    "print('Среднее времени продажи квартиры' ,round(df['days_exposition'].mean(), 0))\n",
    "print('Медиана времени продажи квартиры' ,round(df['days_exposition'].median(), 0))"
   ]
  },
  {
   "cell_type": "markdown",
   "id": "27e592d8",
   "metadata": {},
   "source": [
    ". | Медиана | Среднее\n",
    "------ | ------|----------\n",
    "Значения до переработки      | 95     | 181\n",
    "Значения после переработки    | 89   | 139"
   ]
  },
  {
   "cell_type": "markdown",
   "id": "180d175b",
   "metadata": {},
   "source": [
    "Благодаря графику, можно увидеть новые особенности в данных и увидеть выбросы по длительности продажи квартиры около 45 дней и около 60"
   ]
  },
  {
   "cell_type": "markdown",
   "id": "ab8df474",
   "metadata": {},
   "source": [
    "### 4.4 Какие факторы больше всего влияют на стоимость квартиры?"
   ]
  },
  {
   "cell_type": "code",
   "execution_count": 48,
   "id": "ab8c0fec",
   "metadata": {
    "scrolled": true
   },
   "outputs": [
    {
     "data": {
      "text/html": [
       "<style type=\"text/css\">\n",
       "#T_b00b8_row0_col0, #T_b00b8_row1_col1, #T_b00b8_row2_col2, #T_b00b8_row3_col3, #T_b00b8_row4_col4, #T_b00b8_row5_col5 {\n",
       "  background-color: #b40426;\n",
       "  color: #f1f1f1;\n",
       "}\n",
       "#T_b00b8_row0_col1 {\n",
       "  background-color: #c6d6f1;\n",
       "  color: #000000;\n",
       "}\n",
       "#T_b00b8_row0_col2 {\n",
       "  background-color: #f29072;\n",
       "  color: #f1f1f1;\n",
       "}\n",
       "#T_b00b8_row0_col3 {\n",
       "  background-color: #4a63d3;\n",
       "  color: #f1f1f1;\n",
       "}\n",
       "#T_b00b8_row0_col4, #T_b00b8_row4_col0, #T_b00b8_row4_col1, #T_b00b8_row4_col2, #T_b00b8_row4_col3, #T_b00b8_row4_col5 {\n",
       "  background-color: #3b4cc0;\n",
       "  color: #f1f1f1;\n",
       "}\n",
       "#T_b00b8_row0_col5 {\n",
       "  background-color: #7597f6;\n",
       "  color: #f1f1f1;\n",
       "}\n",
       "#T_b00b8_row1_col0 {\n",
       "  background-color: #d3dbe7;\n",
       "  color: #000000;\n",
       "}\n",
       "#T_b00b8_row1_col2 {\n",
       "  background-color: #f7b093;\n",
       "  color: #000000;\n",
       "}\n",
       "#T_b00b8_row1_col3 {\n",
       "  background-color: #688aef;\n",
       "  color: #f1f1f1;\n",
       "}\n",
       "#T_b00b8_row1_col4 {\n",
       "  background-color: #516ddb;\n",
       "  color: #f1f1f1;\n",
       "}\n",
       "#T_b00b8_row1_col5, #T_b00b8_row2_col0 {\n",
       "  background-color: #ee8669;\n",
       "  color: #f1f1f1;\n",
       "}\n",
       "#T_b00b8_row2_col1 {\n",
       "  background-color: #f7ad90;\n",
       "  color: #000000;\n",
       "}\n",
       "#T_b00b8_row2_col3 {\n",
       "  background-color: #5673e0;\n",
       "  color: #f1f1f1;\n",
       "}\n",
       "#T_b00b8_row2_col4 {\n",
       "  background-color: #5977e3;\n",
       "  color: #f1f1f1;\n",
       "}\n",
       "#T_b00b8_row2_col5 {\n",
       "  background-color: #cdd9ec;\n",
       "  color: #000000;\n",
       "}\n",
       "#T_b00b8_row3_col0 {\n",
       "  background-color: #90b2fe;\n",
       "  color: #000000;\n",
       "}\n",
       "#T_b00b8_row3_col1 {\n",
       "  background-color: #97b8ff;\n",
       "  color: #000000;\n",
       "}\n",
       "#T_b00b8_row3_col2 {\n",
       "  background-color: #80a3fa;\n",
       "  color: #f1f1f1;\n",
       "}\n",
       "#T_b00b8_row3_col4 {\n",
       "  background-color: #82a6fb;\n",
       "  color: #f1f1f1;\n",
       "}\n",
       "#T_b00b8_row3_col5 {\n",
       "  background-color: #89acfd;\n",
       "  color: #000000;\n",
       "}\n",
       "#T_b00b8_row5_col0 {\n",
       "  background-color: #94b6ff;\n",
       "  color: #000000;\n",
       "}\n",
       "#T_b00b8_row5_col1 {\n",
       "  background-color: #ee8468;\n",
       "  color: #f1f1f1;\n",
       "}\n",
       "#T_b00b8_row5_col2 {\n",
       "  background-color: #cedaeb;\n",
       "  color: #000000;\n",
       "}\n",
       "#T_b00b8_row5_col3 {\n",
       "  background-color: #6384eb;\n",
       "  color: #f1f1f1;\n",
       "}\n",
       "#T_b00b8_row5_col4 {\n",
       "  background-color: #5b7ae5;\n",
       "  color: #f1f1f1;\n",
       "}\n",
       "</style>\n",
       "<table id=\"T_b00b8_\">\n",
       "  <thead>\n",
       "    <tr>\n",
       "      <th class=\"blank level0\" >&nbsp;</th>\n",
       "      <th class=\"col_heading level0 col0\" >cost_per_square</th>\n",
       "      <th class=\"col_heading level0 col1\" >total_area</th>\n",
       "      <th class=\"col_heading level0 col2\" >last_price</th>\n",
       "      <th class=\"col_heading level0 col3\" >days_exposition</th>\n",
       "      <th class=\"col_heading level0 col4\" >cityCenters_nearest</th>\n",
       "      <th class=\"col_heading level0 col5\" >rooms</th>\n",
       "    </tr>\n",
       "  </thead>\n",
       "  <tbody>\n",
       "    <tr>\n",
       "      <th id=\"T_b00b8_level0_row0\" class=\"row_heading level0 row0\" >cost_per_square</th>\n",
       "      <td id=\"T_b00b8_row0_col0\" class=\"data row0 col0\" >1.000000</td>\n",
       "      <td id=\"T_b00b8_row0_col1\" class=\"data row0 col1\" >0.293132</td>\n",
       "      <td id=\"T_b00b8_row0_col2\" class=\"data row0 col2\" >0.730067</td>\n",
       "      <td id=\"T_b00b8_row0_col3\" class=\"data row0 col3\" >0.026676</td>\n",
       "      <td id=\"T_b00b8_row0_col4\" class=\"data row0 col4\" >-0.315435</td>\n",
       "      <td id=\"T_b00b8_row0_col5\" class=\"data row0 col5\" >0.042515</td>\n",
       "    </tr>\n",
       "    <tr>\n",
       "      <th id=\"T_b00b8_level0_row1\" class=\"row_heading level0 row1\" >total_area</th>\n",
       "      <td id=\"T_b00b8_row1_col0\" class=\"data row1 col0\" >0.293132</td>\n",
       "      <td id=\"T_b00b8_row1_col1\" class=\"data row1 col1\" >1.000000</td>\n",
       "      <td id=\"T_b00b8_row1_col2\" class=\"data row1 col2\" >0.633796</td>\n",
       "      <td id=\"T_b00b8_row1_col3\" class=\"data row1 col3\" >0.124879</td>\n",
       "      <td id=\"T_b00b8_row1_col4\" class=\"data row1 col4\" >-0.216365</td>\n",
       "      <td id=\"T_b00b8_row1_col5\" class=\"data row1 col5\" >0.757213</td>\n",
       "    </tr>\n",
       "    <tr>\n",
       "      <th id=\"T_b00b8_level0_row2\" class=\"row_heading level0 row2\" >last_price</th>\n",
       "      <td id=\"T_b00b8_row2_col0\" class=\"data row2 col0\" >0.730067</td>\n",
       "      <td id=\"T_b00b8_row2_col1\" class=\"data row2 col1\" >0.633796</td>\n",
       "      <td id=\"T_b00b8_row2_col2\" class=\"data row2 col2\" >1.000000</td>\n",
       "      <td id=\"T_b00b8_row2_col3\" class=\"data row2 col3\" >0.066822</td>\n",
       "      <td id=\"T_b00b8_row2_col4\" class=\"data row2 col4\" >-0.186045</td>\n",
       "      <td id=\"T_b00b8_row2_col5\" class=\"data row2 col5\" >0.345805</td>\n",
       "    </tr>\n",
       "    <tr>\n",
       "      <th id=\"T_b00b8_level0_row3\" class=\"row_heading level0 row3\" >days_exposition</th>\n",
       "      <td id=\"T_b00b8_row3_col0\" class=\"data row3 col0\" >0.026676</td>\n",
       "      <td id=\"T_b00b8_row3_col1\" class=\"data row3 col1\" >0.124879</td>\n",
       "      <td id=\"T_b00b8_row3_col2\" class=\"data row3 col2\" >0.066822</td>\n",
       "      <td id=\"T_b00b8_row3_col3\" class=\"data row3 col3\" >1.000000</td>\n",
       "      <td id=\"T_b00b8_row3_col4\" class=\"data row3 col4\" >-0.027208</td>\n",
       "      <td id=\"T_b00b8_row3_col5\" class=\"data row3 col5\" >0.108468</td>\n",
       "    </tr>\n",
       "    <tr>\n",
       "      <th id=\"T_b00b8_level0_row4\" class=\"row_heading level0 row4\" >cityCenters_nearest</th>\n",
       "      <td id=\"T_b00b8_row4_col0\" class=\"data row4 col0\" >-0.315435</td>\n",
       "      <td id=\"T_b00b8_row4_col1\" class=\"data row4 col1\" >-0.216365</td>\n",
       "      <td id=\"T_b00b8_row4_col2\" class=\"data row4 col2\" >-0.186045</td>\n",
       "      <td id=\"T_b00b8_row4_col3\" class=\"data row4 col3\" >-0.027208</td>\n",
       "      <td id=\"T_b00b8_row4_col4\" class=\"data row4 col4\" >1.000000</td>\n",
       "      <td id=\"T_b00b8_row4_col5\" class=\"data row4 col5\" >-0.172749</td>\n",
       "    </tr>\n",
       "    <tr>\n",
       "      <th id=\"T_b00b8_level0_row5\" class=\"row_heading level0 row5\" >rooms</th>\n",
       "      <td id=\"T_b00b8_row5_col0\" class=\"data row5 col0\" >0.042515</td>\n",
       "      <td id=\"T_b00b8_row5_col1\" class=\"data row5 col1\" >0.757213</td>\n",
       "      <td id=\"T_b00b8_row5_col2\" class=\"data row5 col2\" >0.345805</td>\n",
       "      <td id=\"T_b00b8_row5_col3\" class=\"data row5 col3\" >0.108468</td>\n",
       "      <td id=\"T_b00b8_row5_col4\" class=\"data row5 col4\" >-0.172749</td>\n",
       "      <td id=\"T_b00b8_row5_col5\" class=\"data row5 col5\" >1.000000</td>\n",
       "    </tr>\n",
       "  </tbody>\n",
       "</table>\n"
      ],
      "text/plain": [
       "<pandas.io.formats.style.Styler at 0x7f88cea4c550>"
      ]
     },
     "execution_count": 48,
     "metadata": {},
     "output_type": "execute_result"
    }
   ],
   "source": [
    "corr = df[['cost_per_square',\\\n",
    "           'total_area',\\\n",
    "           'last_price',\\\n",
    "           'days_exposition',\\\n",
    "           'cityCenters_nearest',\\\n",
    "           'rooms']].corr()\n",
    "corr.style.background_gradient(cmap='coolwarm')"
   ]
  },
  {
   "cell_type": "markdown",
   "id": "3c080a7c",
   "metadata": {},
   "source": [
    "Больше всего на стоимость квартиры влияет площадь и количество комнат"
   ]
  },
  {
   "cell_type": "markdown",
   "id": "9bd7081e",
   "metadata": {},
   "source": [
    "### 4.5 10 населённых пунктов с наибольшим числом объявлений"
   ]
  },
  {
   "cell_type": "code",
   "execution_count": 49,
   "id": "6d765399",
   "metadata": {},
   "outputs": [
    {
     "data": {
      "text/html": [
       "<div>\n",
       "<style scoped>\n",
       "    .dataframe tbody tr th:only-of-type {\n",
       "        vertical-align: middle;\n",
       "    }\n",
       "\n",
       "    .dataframe tbody tr th {\n",
       "        vertical-align: top;\n",
       "    }\n",
       "\n",
       "    .dataframe thead th {\n",
       "        text-align: right;\n",
       "    }\n",
       "</style>\n",
       "<table border=\"1\" class=\"dataframe\">\n",
       "  <thead>\n",
       "    <tr style=\"text-align: right;\">\n",
       "      <th></th>\n",
       "      <th>locality_name</th>\n",
       "      <th>count_announcement</th>\n",
       "      <th>cost_per_square</th>\n",
       "    </tr>\n",
       "  </thead>\n",
       "  <tbody>\n",
       "    <tr>\n",
       "      <th>0</th>\n",
       "      <td>Санкт-Петербург</td>\n",
       "      <td>12795</td>\n",
       "      <td>112370.470134</td>\n",
       "    </tr>\n",
       "    <tr>\n",
       "      <th>6</th>\n",
       "      <td>Пушкин</td>\n",
       "      <td>287</td>\n",
       "      <td>102409.146354</td>\n",
       "    </tr>\n",
       "    <tr>\n",
       "      <th>7</th>\n",
       "      <td>деревня Кудрово</td>\n",
       "      <td>276</td>\n",
       "      <td>93226.817462</td>\n",
       "    </tr>\n",
       "    <tr>\n",
       "      <th>5</th>\n",
       "      <td>поселок Парголово</td>\n",
       "      <td>293</td>\n",
       "      <td>89782.528803</td>\n",
       "    </tr>\n",
       "    <tr>\n",
       "      <th>1</th>\n",
       "      <td>поселок Мурино</td>\n",
       "      <td>531</td>\n",
       "      <td>86519.605904</td>\n",
       "    </tr>\n",
       "    <tr>\n",
       "      <th>2</th>\n",
       "      <td>поселок Шушары</td>\n",
       "      <td>394</td>\n",
       "      <td>78355.807089</td>\n",
       "    </tr>\n",
       "    <tr>\n",
       "      <th>4</th>\n",
       "      <td>Колпино</td>\n",
       "      <td>299</td>\n",
       "      <td>75034.369218</td>\n",
       "    </tr>\n",
       "    <tr>\n",
       "      <th>3</th>\n",
       "      <td>Всеволожск</td>\n",
       "      <td>318</td>\n",
       "      <td>68959.552794</td>\n",
       "    </tr>\n",
       "    <tr>\n",
       "      <th>8</th>\n",
       "      <td>Гатчина</td>\n",
       "      <td>250</td>\n",
       "      <td>68395.929381</td>\n",
       "    </tr>\n",
       "    <tr>\n",
       "      <th>9</th>\n",
       "      <td>Выборг</td>\n",
       "      <td>196</td>\n",
       "      <td>57203.818370</td>\n",
       "    </tr>\n",
       "  </tbody>\n",
       "</table>\n",
       "</div>"
      ],
      "text/plain": [
       "       locality_name  count_announcement  cost_per_square\n",
       "0    Санкт-Петербург               12795    112370.470134\n",
       "6             Пушкин                 287    102409.146354\n",
       "7    деревня Кудрово                 276     93226.817462\n",
       "5  поселок Парголово                 293     89782.528803\n",
       "1     поселок Мурино                 531     86519.605904\n",
       "2     поселок Шушары                 394     78355.807089\n",
       "4            Колпино                 299     75034.369218\n",
       "3         Всеволожск                 318     68959.552794\n",
       "8            Гатчина                 250     68395.929381\n",
       "9             Выборг                 196     57203.818370"
      ]
     },
     "execution_count": 49,
     "metadata": {},
     "output_type": "execute_result"
    }
   ],
   "source": [
    "top_10 = (df.value_counts('locality_name', ascending =  False)\n",
    "          .head(10).to_frame()\n",
    "          .reset_index()\n",
    "          .merge(df.groupby('locality_name')['cost_per_square'].mean(), on = 'locality_name', how = 'left')\n",
    "          .rename(columns = {0 : 'count_announcement'}))\n",
    "top_10.sort_values('cost_per_square', ascending=False)"
   ]
  },
  {
   "cell_type": "markdown",
   "id": "b909d86d",
   "metadata": {},
   "source": [
    "**Населенный пункт с самой высокой стоимостью жилья -** Санкт-Петербург  \n",
    "**Населенный пункт с самой низкой стоимостью жилья -** Выборг\n"
   ]
  },
  {
   "cell_type": "markdown",
   "id": "2c4fd7f7",
   "metadata": {},
   "source": [
    "### 4.6 Определение центральной зоны для Санкт-Петербурга"
   ]
  },
  {
   "cell_type": "code",
   "execution_count": 50,
   "id": "e606f0c2",
   "metadata": {},
   "outputs": [],
   "source": [
    "pd.set_option('display.max_columns', 100) #Увеличение количества столбцов доступных для просмотра\n",
    "\n",
    "spb_centr = df[df['locality_name'] == 'Санкт-Петербург']\n",
    "spb_centr = spb_centr.dropna(subset = ['cityCenters_nearest'])"
   ]
  },
  {
   "cell_type": "code",
   "execution_count": 51,
   "id": "05539dea",
   "metadata": {},
   "outputs": [
    {
     "data": {
      "text/html": [
       "<div>\n",
       "<style scoped>\n",
       "    .dataframe tbody tr th:only-of-type {\n",
       "        vertical-align: middle;\n",
       "    }\n",
       "\n",
       "    .dataframe tbody tr th {\n",
       "        vertical-align: top;\n",
       "    }\n",
       "\n",
       "    .dataframe thead th {\n",
       "        text-align: right;\n",
       "    }\n",
       "</style>\n",
       "<table border=\"1\" class=\"dataframe\">\n",
       "  <thead>\n",
       "    <tr style=\"text-align: right;\">\n",
       "      <th></th>\n",
       "      <th>total_images</th>\n",
       "      <th>last_price</th>\n",
       "      <th>total_area</th>\n",
       "      <th>first_day_exposition</th>\n",
       "      <th>rooms</th>\n",
       "      <th>ceiling_height</th>\n",
       "      <th>floors_total</th>\n",
       "      <th>living_area</th>\n",
       "      <th>floor</th>\n",
       "      <th>is_apartment</th>\n",
       "      <th>studio</th>\n",
       "      <th>open_plan</th>\n",
       "      <th>kitchen_area</th>\n",
       "      <th>balcony</th>\n",
       "      <th>locality_name</th>\n",
       "      <th>airports_nearest</th>\n",
       "      <th>cityCenters_nearest</th>\n",
       "      <th>parks_around3000</th>\n",
       "      <th>parks_nearest</th>\n",
       "      <th>ponds_around3000</th>\n",
       "      <th>ponds_nearest</th>\n",
       "      <th>days_exposition</th>\n",
       "      <th>cost_per_square</th>\n",
       "      <th>dayweek_exposition</th>\n",
       "      <th>month_exposition</th>\n",
       "      <th>year_exposition</th>\n",
       "      <th>ratio_residential_and_total_area</th>\n",
       "      <th>ratio_kitchen_area_total</th>\n",
       "      <th>cityCenters_nearest_km</th>\n",
       "      <th>mean_price_one_km</th>\n",
       "    </tr>\n",
       "  </thead>\n",
       "  <tbody>\n",
       "    <tr>\n",
       "      <th>23113</th>\n",
       "      <td>19</td>\n",
       "      <td>8100000</td>\n",
       "      <td>93</td>\n",
       "      <td>2017-06-04</td>\n",
       "      <td>4</td>\n",
       "      <td>3.00</td>\n",
       "      <td>3.0</td>\n",
       "      <td>73.00</td>\n",
       "      <td>1</td>\n",
       "      <td>False</td>\n",
       "      <td>False</td>\n",
       "      <td>False</td>\n",
       "      <td>10.0</td>\n",
       "      <td>1.0</td>\n",
       "      <td>Санкт-Петербург</td>\n",
       "      <td>21115.0</td>\n",
       "      <td>5470.0</td>\n",
       "      <td>2.0</td>\n",
       "      <td>711.0</td>\n",
       "      <td>0.0</td>\n",
       "      <td>NaN</td>\n",
       "      <td>254.0</td>\n",
       "      <td>87096.774194</td>\n",
       "      <td>6</td>\n",
       "      <td>6</td>\n",
       "      <td>2017</td>\n",
       "      <td>0.784946</td>\n",
       "      <td>0.107527</td>\n",
       "      <td>5.0</td>\n",
       "      <td>1620000.0</td>\n",
       "    </tr>\n",
       "    <tr>\n",
       "      <th>22762</th>\n",
       "      <td>9</td>\n",
       "      <td>4200000</td>\n",
       "      <td>32</td>\n",
       "      <td>2016-10-21</td>\n",
       "      <td>1</td>\n",
       "      <td>2.70</td>\n",
       "      <td>25.0</td>\n",
       "      <td>15.20</td>\n",
       "      <td>23</td>\n",
       "      <td>NaN</td>\n",
       "      <td>False</td>\n",
       "      <td>False</td>\n",
       "      <td>8.2</td>\n",
       "      <td>2.0</td>\n",
       "      <td>Санкт-Петербург</td>\n",
       "      <td>7711.0</td>\n",
       "      <td>13845.0</td>\n",
       "      <td>1.0</td>\n",
       "      <td>1326.0</td>\n",
       "      <td>0.0</td>\n",
       "      <td>NaN</td>\n",
       "      <td>521.0</td>\n",
       "      <td>131250.000000</td>\n",
       "      <td>4</td>\n",
       "      <td>10</td>\n",
       "      <td>2016</td>\n",
       "      <td>0.475000</td>\n",
       "      <td>0.256250</td>\n",
       "      <td>14.0</td>\n",
       "      <td>300000.0</td>\n",
       "    </tr>\n",
       "    <tr>\n",
       "      <th>18122</th>\n",
       "      <td>12</td>\n",
       "      <td>10800000</td>\n",
       "      <td>114</td>\n",
       "      <td>2019-01-11</td>\n",
       "      <td>3</td>\n",
       "      <td>2.65</td>\n",
       "      <td>17.0</td>\n",
       "      <td>83.22</td>\n",
       "      <td>2</td>\n",
       "      <td>NaN</td>\n",
       "      <td>False</td>\n",
       "      <td>False</td>\n",
       "      <td>15.0</td>\n",
       "      <td>0.0</td>\n",
       "      <td>Санкт-Петербург</td>\n",
       "      <td>30665.0</td>\n",
       "      <td>11328.0</td>\n",
       "      <td>1.0</td>\n",
       "      <td>38.0</td>\n",
       "      <td>1.0</td>\n",
       "      <td>122.0</td>\n",
       "      <td>65.0</td>\n",
       "      <td>94736.842105</td>\n",
       "      <td>4</td>\n",
       "      <td>1</td>\n",
       "      <td>2019</td>\n",
       "      <td>0.730000</td>\n",
       "      <td>0.131579</td>\n",
       "      <td>11.0</td>\n",
       "      <td>981818.0</td>\n",
       "    </tr>\n",
       "  </tbody>\n",
       "</table>\n",
       "</div>"
      ],
      "text/plain": [
       "       total_images  last_price  total_area first_day_exposition  rooms  \\\n",
       "23113            19     8100000          93           2017-06-04      4   \n",
       "22762             9     4200000          32           2016-10-21      1   \n",
       "18122            12    10800000         114           2019-01-11      3   \n",
       "\n",
       "       ceiling_height  floors_total  living_area  floor is_apartment  studio  \\\n",
       "23113            3.00           3.0        73.00      1        False   False   \n",
       "22762            2.70          25.0        15.20     23          NaN   False   \n",
       "18122            2.65          17.0        83.22      2          NaN   False   \n",
       "\n",
       "       open_plan  kitchen_area  balcony    locality_name  airports_nearest  \\\n",
       "23113      False          10.0      1.0  Санкт-Петербург           21115.0   \n",
       "22762      False           8.2      2.0  Санкт-Петербург            7711.0   \n",
       "18122      False          15.0      0.0  Санкт-Петербург           30665.0   \n",
       "\n",
       "       cityCenters_nearest  parks_around3000  parks_nearest  ponds_around3000  \\\n",
       "23113               5470.0               2.0          711.0               0.0   \n",
       "22762              13845.0               1.0         1326.0               0.0   \n",
       "18122              11328.0               1.0           38.0               1.0   \n",
       "\n",
       "       ponds_nearest  days_exposition  cost_per_square  dayweek_exposition  \\\n",
       "23113            NaN            254.0     87096.774194                   6   \n",
       "22762            NaN            521.0    131250.000000                   4   \n",
       "18122          122.0             65.0     94736.842105                   4   \n",
       "\n",
       "       month_exposition  year_exposition  ratio_residential_and_total_area  \\\n",
       "23113                 6             2017                          0.784946   \n",
       "22762                10             2016                          0.475000   \n",
       "18122                 1             2019                          0.730000   \n",
       "\n",
       "       ratio_kitchen_area_total  cityCenters_nearest_km  mean_price_one_km  \n",
       "23113                  0.107527                     5.0          1620000.0  \n",
       "22762                  0.256250                    14.0           300000.0  \n",
       "18122                  0.131579                    11.0           981818.0  "
      ]
     },
     "execution_count": 51,
     "metadata": {},
     "output_type": "execute_result"
    }
   ],
   "source": [
    "spb_centr['cityCenters_nearest_km'] = round(spb_centr['cityCenters_nearest']/1000, 0) #Создаем новый столбец с раcтоянием до центра в киллометрах\n",
    "spb_centr['cityCenters_nearest_km'] = spb_centr['cityCenters_nearest_km'].replace(0, 1) #Меняем 0 на 1, так как при вычисление цены на киломентр получались значения типа inf\n",
    "spb_centr['mean_price_one_km'] = round(spb_centr['last_price']/spb_centr['cityCenters_nearest_km'], 0) #Считаю среднюю цену для каждого километра\n",
    "spb_centr.sample(3)"
   ]
  },
  {
   "cell_type": "code",
   "execution_count": 52,
   "id": "58058e43",
   "metadata": {},
   "outputs": [
    {
     "data": {
      "image/png": "[encoded data removed]",
      "text/plain": [
       "<Figure size 936x360 with 1 Axes>"
      ]
     },
     "metadata": {
      "needs_background": "light"
     },
     "output_type": "display_data"
    }
   ],
   "source": [
    "#График зависимости цены квартиры от удаленности от центра города\n",
    "spb_centr.groupby('cityCenters_nearest_km')['mean_price_one_km']\\\n",
    "         .mean()\\\n",
    "         .plot(figsize=(13, 5), xticks=[x for x in range(int(spb_centr.cityCenters_nearest_km.max()))]);\n"
   ]
  },
  {
   "cell_type": "markdown",
   "id": "feb9dfaa",
   "metadata": {},
   "source": [
    "Из графика видно, что центральная зона начинатеся от 3-х киллометров до центра города"
   ]
  },
  {
   "cell_type": "markdown",
   "id": "4245c6da",
   "metadata": {},
   "source": [
    "### 4.7 Аналитика квартир центральной зоны Санкт-Петербурга"
   ]
  },
  {
   "cell_type": "code",
   "execution_count": 53,
   "id": "9cb7c3bd",
   "metadata": {},
   "outputs": [
    {
     "data": {
      "text/html": [
       "<div>\n",
       "<style scoped>\n",
       "    .dataframe tbody tr th:only-of-type {\n",
       "        vertical-align: middle;\n",
       "    }\n",
       "\n",
       "    .dataframe tbody tr th {\n",
       "        vertical-align: top;\n",
       "    }\n",
       "\n",
       "    .dataframe thead th {\n",
       "        text-align: right;\n",
       "    }\n",
       "</style>\n",
       "<table border=\"1\" class=\"dataframe\">\n",
       "  <thead>\n",
       "    <tr style=\"text-align: right;\">\n",
       "      <th></th>\n",
       "      <th>total_area</th>\n",
       "      <th>last_price</th>\n",
       "      <th>rooms</th>\n",
       "      <th>ceiling_height</th>\n",
       "    </tr>\n",
       "  </thead>\n",
       "  <tbody>\n",
       "    <tr>\n",
       "      <th>count</th>\n",
       "      <td>376.000000</td>\n",
       "      <td>3.760000e+02</td>\n",
       "      <td>376.000000</td>\n",
       "      <td>376.000000</td>\n",
       "    </tr>\n",
       "    <tr>\n",
       "      <th>mean</th>\n",
       "      <td>100.343085</td>\n",
       "      <td>1.905539e+07</td>\n",
       "      <td>3.103723</td>\n",
       "      <td>2.690372</td>\n",
       "    </tr>\n",
       "    <tr>\n",
       "      <th>std</th>\n",
       "      <td>57.993626</td>\n",
       "      <td>3.437631e+07</td>\n",
       "      <td>1.502846</td>\n",
       "      <td>0.106803</td>\n",
       "    </tr>\n",
       "    <tr>\n",
       "      <th>min</th>\n",
       "      <td>12.000000</td>\n",
       "      <td>2.100000e+06</td>\n",
       "      <td>0.000000</td>\n",
       "      <td>2.500000</td>\n",
       "    </tr>\n",
       "    <tr>\n",
       "      <th>25%</th>\n",
       "      <td>64.000000</td>\n",
       "      <td>7.500000e+06</td>\n",
       "      <td>2.000000</td>\n",
       "      <td>2.650000</td>\n",
       "    </tr>\n",
       "    <tr>\n",
       "      <th>50%</th>\n",
       "      <td>86.500000</td>\n",
       "      <td>9.950000e+06</td>\n",
       "      <td>3.000000</td>\n",
       "      <td>2.650000</td>\n",
       "    </tr>\n",
       "    <tr>\n",
       "      <th>75%</th>\n",
       "      <td>116.000000</td>\n",
       "      <td>1.550000e+07</td>\n",
       "      <td>4.000000</td>\n",
       "      <td>2.650000</td>\n",
       "    </tr>\n",
       "    <tr>\n",
       "      <th>max</th>\n",
       "      <td>483.000000</td>\n",
       "      <td>4.013000e+08</td>\n",
       "      <td>14.000000</td>\n",
       "      <td>3.000000</td>\n",
       "    </tr>\n",
       "  </tbody>\n",
       "</table>\n",
       "</div>"
      ],
      "text/plain": [
       "       total_area    last_price       rooms  ceiling_height\n",
       "count  376.000000  3.760000e+02  376.000000      376.000000\n",
       "mean   100.343085  1.905539e+07    3.103723        2.690372\n",
       "std     57.993626  3.437631e+07    1.502846        0.106803\n",
       "min     12.000000  2.100000e+06    0.000000        2.500000\n",
       "25%     64.000000  7.500000e+06    2.000000        2.650000\n",
       "50%     86.500000  9.950000e+06    3.000000        2.650000\n",
       "75%    116.000000  1.550000e+07    4.000000        2.650000\n",
       "max    483.000000  4.013000e+08   14.000000        3.000000"
      ]
     },
     "execution_count": 53,
     "metadata": {},
     "output_type": "execute_result"
    }
   ],
   "source": [
    "flats_center_spb = spb_centr[spb_centr['cityCenters_nearest_km'] < 3]\n",
    "flats_center_spb[['total_area', 'last_price', 'rooms', 'ceiling_height']].describe() #Смотрим статистику по квартирам в центре"
   ]
  },
  {
   "cell_type": "markdown",
   "id": "64f97091",
   "metadata": {},
   "source": [
    "Средняя площадь квартиры для квартир в центре составляет 100 кв.м., что на 40 кв.м. больше чем у квартир которые находятся\n",
    "за пределами центральной зоны. Что больше, чем все квартиры, так как средняя площать квартиры составляет 59кв.м.\n",
    "\n",
    "Средняя цена для квартир находящихся в центральной зоне составляет 19 млн рублей, начальная цена для покупки квартиры в этом районе начинается от 2,1 млн рублей. Что больше, чем стоимость квартир за пределами центра.\n",
    "\n",
    "Среднее количество комнат для квартир из центра составляет 3 комнаты, максимальное значение - 14 комнат. Количество комнат отличается не сильно, во всей выборке среднее количество комнат 2.\n",
    "\n",
    "Минимальная высота потолков - 2.5 м, среднее значение составляет 2,65 м, а максимальное достигает 3 м."
   ]
  },
  {
   "cell_type": "code",
   "execution_count": 54,
   "id": "f91d1a48",
   "metadata": {
    "scrolled": true
   },
   "outputs": [
    {
     "data": {
      "text/html": [
       "<div>\n",
       "<style scoped>\n",
       "    .dataframe tbody tr th:only-of-type {\n",
       "        vertical-align: middle;\n",
       "    }\n",
       "\n",
       "    .dataframe tbody tr th {\n",
       "        vertical-align: top;\n",
       "    }\n",
       "\n",
       "    .dataframe thead th {\n",
       "        text-align: right;\n",
       "    }\n",
       "</style>\n",
       "<table border=\"1\" class=\"dataframe\">\n",
       "  <thead>\n",
       "    <tr style=\"text-align: right;\">\n",
       "      <th></th>\n",
       "      <th>total_area</th>\n",
       "      <th>last_price</th>\n",
       "      <th>rooms</th>\n",
       "      <th>last_price</th>\n",
       "    </tr>\n",
       "  </thead>\n",
       "  <tbody>\n",
       "    <tr>\n",
       "      <th>count</th>\n",
       "      <td>12147.000000</td>\n",
       "      <td>1.214700e+04</td>\n",
       "      <td>12147.000000</td>\n",
       "      <td>1.214700e+04</td>\n",
       "    </tr>\n",
       "    <tr>\n",
       "      <th>mean</th>\n",
       "      <td>59.845970</td>\n",
       "      <td>7.042268e+06</td>\n",
       "      <td>2.047584</td>\n",
       "      <td>7.042268e+06</td>\n",
       "    </tr>\n",
       "    <tr>\n",
       "      <th>std</th>\n",
       "      <td>35.397941</td>\n",
       "      <td>1.147217e+07</td>\n",
       "      <td>1.055378</td>\n",
       "      <td>1.147217e+07</td>\n",
       "    </tr>\n",
       "    <tr>\n",
       "      <th>min</th>\n",
       "      <td>13.000000</td>\n",
       "      <td>1.219000e+04</td>\n",
       "      <td>0.000000</td>\n",
       "      <td>1.219000e+04</td>\n",
       "    </tr>\n",
       "    <tr>\n",
       "      <th>25%</th>\n",
       "      <td>40.000000</td>\n",
       "      <td>4.000000e+06</td>\n",
       "      <td>1.000000</td>\n",
       "      <td>4.000000e+06</td>\n",
       "    </tr>\n",
       "    <tr>\n",
       "      <th>50%</th>\n",
       "      <td>51.000000</td>\n",
       "      <td>5.150000e+06</td>\n",
       "      <td>2.000000</td>\n",
       "      <td>5.150000e+06</td>\n",
       "    </tr>\n",
       "    <tr>\n",
       "      <th>75%</th>\n",
       "      <td>69.000000</td>\n",
       "      <td>7.200000e+06</td>\n",
       "      <td>3.000000</td>\n",
       "      <td>7.200000e+06</td>\n",
       "    </tr>\n",
       "    <tr>\n",
       "      <th>max</th>\n",
       "      <td>900.000000</td>\n",
       "      <td>7.630000e+08</td>\n",
       "      <td>19.000000</td>\n",
       "      <td>7.630000e+08</td>\n",
       "    </tr>\n",
       "  </tbody>\n",
       "</table>\n",
       "</div>"
      ],
      "text/plain": [
       "         total_area    last_price         rooms    last_price\n",
       "count  12147.000000  1.214700e+04  12147.000000  1.214700e+04\n",
       "mean      59.845970  7.042268e+06      2.047584  7.042268e+06\n",
       "std       35.397941  1.147217e+07      1.055378  1.147217e+07\n",
       "min       13.000000  1.219000e+04      0.000000  1.219000e+04\n",
       "25%       40.000000  4.000000e+06      1.000000  4.000000e+06\n",
       "50%       51.000000  5.150000e+06      2.000000  5.150000e+06\n",
       "75%       69.000000  7.200000e+06      3.000000  7.200000e+06\n",
       "max      900.000000  7.630000e+08     19.000000  7.630000e+08"
      ]
     },
     "execution_count": 54,
     "metadata": {},
     "output_type": "execute_result"
    }
   ],
   "source": [
    "flats_further_center_spb = spb_centr[spb_centr['cityCenters_nearest_km'] > 3]\n",
    "flats_further_center_spb[['total_area', 'last_price', 'rooms', 'last_price']].describe() #Смотрим статистику по квартирам расположеным за центральной зоной"
   ]
  },
  {
   "cell_type": "code",
   "execution_count": 59,
   "id": "f33c70c7",
   "metadata": {},
   "outputs": [
    {
     "data": {
      "text/html": [
       "<div>\n",
       "<style scoped>\n",
       "    .dataframe tbody tr th:only-of-type {\n",
       "        vertical-align: middle;\n",
       "    }\n",
       "\n",
       "    .dataframe tbody tr th {\n",
       "        vertical-align: top;\n",
       "    }\n",
       "\n",
       "    .dataframe thead th {\n",
       "        text-align: right;\n",
       "    }\n",
       "</style>\n",
       "<table border=\"1\" class=\"dataframe\">\n",
       "  <thead>\n",
       "    <tr style=\"text-align: right;\">\n",
       "      <th></th>\n",
       "      <th>total_area</th>\n",
       "      <th>last_price</th>\n",
       "      <th>rooms</th>\n",
       "      <th>last_price</th>\n",
       "    </tr>\n",
       "  </thead>\n",
       "  <tbody>\n",
       "    <tr>\n",
       "      <th>count</th>\n",
       "      <td>19316.000000</td>\n",
       "      <td>1.931600e+04</td>\n",
       "      <td>19316.000000</td>\n",
       "      <td>1.931600e+04</td>\n",
       "    </tr>\n",
       "    <tr>\n",
       "      <th>mean</th>\n",
       "      <td>57.860271</td>\n",
       "      <td>6.130593e+06</td>\n",
       "      <td>2.003831</td>\n",
       "      <td>6.130593e+06</td>\n",
       "    </tr>\n",
       "    <tr>\n",
       "      <th>std</th>\n",
       "      <td>33.120660</td>\n",
       "      <td>1.074264e+07</td>\n",
       "      <td>1.035625</td>\n",
       "      <td>1.074264e+07</td>\n",
       "    </tr>\n",
       "    <tr>\n",
       "      <th>min</th>\n",
       "      <td>12.000000</td>\n",
       "      <td>1.219000e+04</td>\n",
       "      <td>0.000000</td>\n",
       "      <td>1.219000e+04</td>\n",
       "    </tr>\n",
       "    <tr>\n",
       "      <th>25%</th>\n",
       "      <td>39.000000</td>\n",
       "      <td>3.390000e+06</td>\n",
       "      <td>1.000000</td>\n",
       "      <td>3.390000e+06</td>\n",
       "    </tr>\n",
       "    <tr>\n",
       "      <th>50%</th>\n",
       "      <td>50.000000</td>\n",
       "      <td>4.500000e+06</td>\n",
       "      <td>2.000000</td>\n",
       "      <td>4.500000e+06</td>\n",
       "    </tr>\n",
       "    <tr>\n",
       "      <th>75%</th>\n",
       "      <td>67.000000</td>\n",
       "      <td>6.400000e+06</td>\n",
       "      <td>3.000000</td>\n",
       "      <td>6.400000e+06</td>\n",
       "    </tr>\n",
       "    <tr>\n",
       "      <th>max</th>\n",
       "      <td>900.000000</td>\n",
       "      <td>7.630000e+08</td>\n",
       "      <td>19.000000</td>\n",
       "      <td>7.630000e+08</td>\n",
       "    </tr>\n",
       "  </tbody>\n",
       "</table>\n",
       "</div>"
      ],
      "text/plain": [
       "         total_area    last_price         rooms    last_price\n",
       "count  19316.000000  1.931600e+04  19316.000000  1.931600e+04\n",
       "mean      57.860271  6.130593e+06      2.003831  6.130593e+06\n",
       "std       33.120660  1.074264e+07      1.035625  1.074264e+07\n",
       "min       12.000000  1.219000e+04      0.000000  1.219000e+04\n",
       "25%       39.000000  3.390000e+06      1.000000  3.390000e+06\n",
       "50%       50.000000  4.500000e+06      2.000000  4.500000e+06\n",
       "75%       67.000000  6.400000e+06      3.000000  6.400000e+06\n",
       "max      900.000000  7.630000e+08     19.000000  7.630000e+08"
      ]
     },
     "execution_count": 59,
     "metadata": {},
     "output_type": "execute_result"
    }
   ],
   "source": [
    "df[['total_area', 'last_price', 'rooms', 'last_price']].describe() #Смотрим статистику по квартирам расположеным за центральной зоной"
   ]
  },
  {
   "cell_type": "code",
   "execution_count": 55,
   "id": "10d4037d",
   "metadata": {},
   "outputs": [
    {
     "data": {
      "text/html": [
       "<style type=\"text/css\">\n",
       "#T_47647_row0_col0, #T_47647_row1_col1, #T_47647_row2_col2, #T_47647_row3_col3 {\n",
       "  background-color: #b40426;\n",
       "  color: #f1f1f1;\n",
       "}\n",
       "#T_47647_row0_col1, #T_47647_row0_col2, #T_47647_row2_col0, #T_47647_row2_col3 {\n",
       "  background-color: #3b4cc0;\n",
       "  color: #f1f1f1;\n",
       "}\n",
       "#T_47647_row0_col3 {\n",
       "  background-color: #d7dce3;\n",
       "  color: #000000;\n",
       "}\n",
       "#T_47647_row1_col0 {\n",
       "  background-color: #5572df;\n",
       "  color: #f1f1f1;\n",
       "}\n",
       "#T_47647_row1_col2 {\n",
       "  background-color: #bbd1f8;\n",
       "  color: #000000;\n",
       "}\n",
       "#T_47647_row1_col3 {\n",
       "  background-color: #7a9df8;\n",
       "  color: #f1f1f1;\n",
       "}\n",
       "#T_47647_row2_col1 {\n",
       "  background-color: #a7c5fe;\n",
       "  color: #000000;\n",
       "}\n",
       "#T_47647_row3_col0 {\n",
       "  background-color: #dbdcde;\n",
       "  color: #000000;\n",
       "}\n",
       "#T_47647_row3_col1 {\n",
       "  background-color: #688aef;\n",
       "  color: #f1f1f1;\n",
       "}\n",
       "#T_47647_row3_col2 {\n",
       "  background-color: #445acc;\n",
       "  color: #f1f1f1;\n",
       "}\n",
       "</style>\n",
       "<table id=\"T_47647_\">\n",
       "  <thead>\n",
       "    <tr>\n",
       "      <th class=\"blank level0\" >&nbsp;</th>\n",
       "      <th class=\"col_heading level0 col0\" >rooms</th>\n",
       "      <th class=\"col_heading level0 col1\" >floor</th>\n",
       "      <th class=\"col_heading level0 col2\" >cityCenters_nearest_km</th>\n",
       "      <th class=\"col_heading level0 col3\" >last_price</th>\n",
       "    </tr>\n",
       "  </thead>\n",
       "  <tbody>\n",
       "    <tr>\n",
       "      <th id=\"T_47647_level0_row0\" class=\"row_heading level0 row0\" >rooms</th>\n",
       "      <td id=\"T_47647_row0_col0\" class=\"data row0 col0\" >1.000000</td>\n",
       "      <td id=\"T_47647_row0_col1\" class=\"data row0 col1\" >-0.162331</td>\n",
       "      <td id=\"T_47647_row0_col2\" class=\"data row0 col2\" >-0.276253</td>\n",
       "      <td id=\"T_47647_row0_col3\" class=\"data row0 col3\" >0.355734</td>\n",
       "    </tr>\n",
       "    <tr>\n",
       "      <th id=\"T_47647_level0_row1\" class=\"row_heading level0 row1\" >floor</th>\n",
       "      <td id=\"T_47647_row1_col0\" class=\"data row1 col0\" >-0.162331</td>\n",
       "      <td id=\"T_47647_row1_col1\" class=\"data row1 col1\" >1.000000</td>\n",
       "      <td id=\"T_47647_row1_col2\" class=\"data row1 col2\" >0.214687</td>\n",
       "      <td id=\"T_47647_row1_col3\" class=\"data row1 col3\" >0.008436</td>\n",
       "    </tr>\n",
       "    <tr>\n",
       "      <th id=\"T_47647_level0_row2\" class=\"row_heading level0 row2\" >cityCenters_nearest_km</th>\n",
       "      <td id=\"T_47647_row2_col0\" class=\"data row2 col0\" >-0.276253</td>\n",
       "      <td id=\"T_47647_row2_col1\" class=\"data row2 col1\" >0.214687</td>\n",
       "      <td id=\"T_47647_row2_col2\" class=\"data row2 col2\" >1.000000</td>\n",
       "      <td id=\"T_47647_row2_col3\" class=\"data row2 col3\" >-0.233677</td>\n",
       "    </tr>\n",
       "    <tr>\n",
       "      <th id=\"T_47647_level0_row3\" class=\"row_heading level0 row3\" >last_price</th>\n",
       "      <td id=\"T_47647_row3_col0\" class=\"data row3 col0\" >0.355734</td>\n",
       "      <td id=\"T_47647_row3_col1\" class=\"data row3 col1\" >0.008436</td>\n",
       "      <td id=\"T_47647_row3_col2\" class=\"data row3 col2\" >-0.233677</td>\n",
       "      <td id=\"T_47647_row3_col3\" class=\"data row3 col3\" >1.000000</td>\n",
       "    </tr>\n",
       "  </tbody>\n",
       "</table>\n"
      ],
      "text/plain": [
       "<pandas.io.formats.style.Styler at 0x7f88cea72760>"
      ]
     },
     "execution_count": 55,
     "metadata": {},
     "output_type": "execute_result"
    }
   ],
   "source": [
    "corr_spb = spb_centr[['rooms', 'floor', 'cityCenters_nearest_km', 'last_price']].corr()\n",
    "corr_spb.style.background_gradient(cmap='coolwarm')"
   ]
  },
  {
   "cell_type": "markdown",
   "id": "e89d67bb",
   "metadata": {},
   "source": [
    "Наибольшее влияние оказывает фактор количества комнат в квартире. Данные фактор прямо пропорционально влияет на стоимость квартиры, чем больше число комнат, тем больше стоимость квартиры.\n",
    "\n",
    "Этаж имеет очень слабое влияние на стоимость квартиры, но при таком слабом влиянии прослеживается прямая зависимость, чем выше этаж, тем больше стоимость.\n",
    "\n",
    "Удаленность от центра прямо пропорционально стоимости квартиры, чем дальше от центра, тем меньше стоимость квартиры."
   ]
  }
 ],
 "metadata": {
  "kernelspec": {
   "display_name": "Python 3 (ipykernel)",
   "language": "python",
   "name": "python3"
  },
  "language_info": {
   "codemirror_mode": {
    "name": "ipython",
    "version": 3
   },
   "file_extension": ".py",
   "mimetype": "text/x-python",
   "name": "python",
   "nbconvert_exporter": "python",
   "pygments_lexer": "ipython3",
   "version": "3.9.7"
  },
  "toc": {
   "base_numbering": 1,
   "nav_menu": {},
   "number_sections": false,
   "sideBar": true,
   "skip_h1_title": false,
   "title_cell": "Table of Contents",
   "title_sidebar": "Contents",
   "toc_cell": true,
   "toc_position": {
    "height": "calc(100% - 180px)",
    "left": "10px",
    "top": "150px",
    "width": "288px"
   },
   "toc_section_display": true,
   "toc_window_display": true
  }
 },
 "nbformat": 4,
 "nbformat_minor": 5
}
