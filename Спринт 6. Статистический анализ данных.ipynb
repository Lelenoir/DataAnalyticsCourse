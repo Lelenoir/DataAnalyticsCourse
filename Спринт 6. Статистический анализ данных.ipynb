{
 "cells": [
  {
   "cell_type": "code",
   "execution_count": 1,
   "id": "052c91db-fda1-492f-a1c7-772d7800608b",
   "metadata": {},
   "outputs": [],
   "source": [
    "import pandas as pd\n",
    "import plotly.express as px"
   ]
  },
  {
   "cell_type": "markdown",
   "id": "9934c73d-4a60-424e-9fa7-d1f6e364bf0c",
   "metadata": {},
   "source": [
    "# Предобработка данных"
   ]
  },
  {
   "cell_type": "markdown",
   "id": "04275fc3-1a19-4681-a69f-1ad17b89c72b",
   "metadata": {},
   "source": [
    "## Тарифы"
   ]
  },
  {
   "cell_type": "code",
   "execution_count": 2,
   "id": "8dbabc17-05b7-411f-99eb-0d40082887f2",
   "metadata": {
    "jupyter": {
     "source_hidden": true
    },
    "tags": []
   },
   "outputs": [
    {
     "name": "stdout",
     "output_type": "stream",
     "text": [
      "<class 'pandas.core.frame.DataFrame'>\n",
      "RangeIndex: 2 entries, 0 to 1\n",
      "Data columns (total 8 columns):\n",
      " #   Column                 Non-Null Count  Dtype \n",
      "---  ------                 --------------  ----- \n",
      " 0   messages_included      2 non-null      int64 \n",
      " 1   mb_per_month_included  2 non-null      int64 \n",
      " 2   minutes_included       2 non-null      int64 \n",
      " 3   rub_monthly_fee        2 non-null      int64 \n",
      " 4   rub_per_gb             2 non-null      int64 \n",
      " 5   rub_per_message        2 non-null      int64 \n",
      " 6   rub_per_minute         2 non-null      int64 \n",
      " 7   tariff_name            2 non-null      object\n",
      "dtypes: int64(7), object(1)\n",
      "memory usage: 256.0+ bytes\n"
     ]
    },
    {
     "data": {
      "text/html": [
       "<div>\n",
       "<style scoped>\n",
       "    .dataframe tbody tr th:only-of-type {\n",
       "        vertical-align: middle;\n",
       "    }\n",
       "\n",
       "    .dataframe tbody tr th {\n",
       "        vertical-align: top;\n",
       "    }\n",
       "\n",
       "    .dataframe thead th {\n",
       "        text-align: right;\n",
       "    }\n",
       "</style>\n",
       "<table border=\"1\" class=\"dataframe\">\n",
       "  <thead>\n",
       "    <tr style=\"text-align: right;\">\n",
       "      <th></th>\n",
       "      <th>messages_included</th>\n",
       "      <th>mb_per_month_included</th>\n",
       "      <th>minutes_included</th>\n",
       "      <th>rub_monthly_fee</th>\n",
       "      <th>rub_per_gb</th>\n",
       "      <th>rub_per_message</th>\n",
       "      <th>rub_per_minute</th>\n",
       "      <th>tariff_name</th>\n",
       "    </tr>\n",
       "  </thead>\n",
       "  <tbody>\n",
       "    <tr>\n",
       "      <th>1</th>\n",
       "      <td>1000</td>\n",
       "      <td>30720</td>\n",
       "      <td>3000</td>\n",
       "      <td>1950</td>\n",
       "      <td>150</td>\n",
       "      <td>1</td>\n",
       "      <td>1</td>\n",
       "      <td>ultra</td>\n",
       "    </tr>\n",
       "    <tr>\n",
       "      <th>0</th>\n",
       "      <td>50</td>\n",
       "      <td>15360</td>\n",
       "      <td>500</td>\n",
       "      <td>550</td>\n",
       "      <td>200</td>\n",
       "      <td>3</td>\n",
       "      <td>3</td>\n",
       "      <td>smart</td>\n",
       "    </tr>\n",
       "  </tbody>\n",
       "</table>\n",
       "</div>"
      ],
      "text/plain": [
       "   messages_included  mb_per_month_included  minutes_included  \\\n",
       "1               1000                  30720              3000   \n",
       "0                 50                  15360               500   \n",
       "\n",
       "   rub_monthly_fee  rub_per_gb  rub_per_message  rub_per_minute tariff_name  \n",
       "1             1950         150                1               1       ultra  \n",
       "0              550         200                3               3       smart  "
      ]
     },
     "execution_count": 2,
     "metadata": {},
     "output_type": "execute_result"
    }
   ],
   "source": [
    "tariffs = pd.read_csv('tariffs.csv')\n",
    "tariffs.info()\n",
    "tariffs.sample(2)"
   ]
  },
  {
   "cell_type": "markdown",
   "id": "e1d768bb-76e2-4066-8615-b677d8ec8b27",
   "metadata": {},
   "source": [
    "## Пользователи"
   ]
  },
  {
   "cell_type": "code",
   "execution_count": 3,
   "id": "400eca38-0bb9-4684-a3d5-f649666b7ae2",
   "metadata": {
    "jupyter": {
     "source_hidden": true
    },
    "tags": []
   },
   "outputs": [
    {
     "name": "stdout",
     "output_type": "stream",
     "text": [
      "<class 'pandas.core.frame.DataFrame'>\n",
      "RangeIndex: 500 entries, 0 to 499\n",
      "Data columns (total 8 columns):\n",
      " #   Column      Non-Null Count  Dtype \n",
      "---  ------      --------------  ----- \n",
      " 0   user_id     500 non-null    int64 \n",
      " 1   age         500 non-null    int64 \n",
      " 2   churn_date  38 non-null     object\n",
      " 3   city        500 non-null    object\n",
      " 4   first_name  500 non-null    object\n",
      " 5   last_name   500 non-null    object\n",
      " 6   reg_date    500 non-null    object\n",
      " 7   tariff      500 non-null    object\n",
      "dtypes: int64(2), object(6)\n",
      "memory usage: 31.4+ KB\n"
     ]
    },
    {
     "data": {
      "text/html": [
       "<div>\n",
       "<style scoped>\n",
       "    .dataframe tbody tr th:only-of-type {\n",
       "        vertical-align: middle;\n",
       "    }\n",
       "\n",
       "    .dataframe tbody tr th {\n",
       "        vertical-align: top;\n",
       "    }\n",
       "\n",
       "    .dataframe thead th {\n",
       "        text-align: right;\n",
       "    }\n",
       "</style>\n",
       "<table border=\"1\" class=\"dataframe\">\n",
       "  <thead>\n",
       "    <tr style=\"text-align: right;\">\n",
       "      <th></th>\n",
       "      <th>user_id</th>\n",
       "      <th>age</th>\n",
       "      <th>churn_date</th>\n",
       "      <th>city</th>\n",
       "      <th>first_name</th>\n",
       "      <th>last_name</th>\n",
       "      <th>reg_date</th>\n",
       "      <th>tariff</th>\n",
       "    </tr>\n",
       "  </thead>\n",
       "  <tbody>\n",
       "    <tr>\n",
       "      <th>448</th>\n",
       "      <td>1448</td>\n",
       "      <td>42</td>\n",
       "      <td>NaN</td>\n",
       "      <td>Кострома</td>\n",
       "      <td>Ростислав</td>\n",
       "      <td>Дроздов</td>\n",
       "      <td>2018-09-16</td>\n",
       "      <td>smart</td>\n",
       "    </tr>\n",
       "    <tr>\n",
       "      <th>112</th>\n",
       "      <td>1112</td>\n",
       "      <td>51</td>\n",
       "      <td>NaN</td>\n",
       "      <td>Ульяновск</td>\n",
       "      <td>Арнольд</td>\n",
       "      <td>Казанцев</td>\n",
       "      <td>2018-09-04</td>\n",
       "      <td>smart</td>\n",
       "    </tr>\n",
       "  </tbody>\n",
       "</table>\n",
       "</div>"
      ],
      "text/plain": [
       "     user_id  age churn_date       city first_name last_name    reg_date  \\\n",
       "448     1448   42        NaN   Кострома  Ростислав   Дроздов  2018-09-16   \n",
       "112     1112   51        NaN  Ульяновск    Арнольд  Казанцев  2018-09-04   \n",
       "\n",
       "    tariff  \n",
       "448  smart  \n",
       "112  smart  "
      ]
     },
     "execution_count": 3,
     "metadata": {},
     "output_type": "execute_result"
    }
   ],
   "source": [
    "users = pd.read_csv('users.csv')\n",
    "users.info()\n",
    "users.sample(2)"
   ]
  },
  {
   "cell_type": "code",
   "execution_count": 4,
   "id": "d74b8d61-df45-4177-af2d-a8954d171af8",
   "metadata": {
    "jupyter": {
     "source_hidden": true
    },
    "tags": []
   },
   "outputs": [
    {
     "name": "stdout",
     "output_type": "stream",
     "text": [
      "\n",
      "Статистическое описание датафрейма \"Пользователи\" позволяет сделать следующие выводы:      \n",
      "- Средний возраст пользователей - 46 лет      \n",
      "- Возрастные рамки соблюдаются: возраст пользователей от 18 до 75-ти лет - аномальные значения отсутствуют      \n",
      "- Подавляющее большинство пользователей - люди в возрасте от 32 до 60-ти лет      \n",
      "- Стандартное отклонение возраста показывает, что возраст пользователей довольно сильно рассеян относительно среднего. Также это показывает гистограмма распределения возраста      \n",
      "- Тариф \"Смарт\" лидирует в количестве пользователей: их на нем 70%      \n",
      "\n"
     ]
    },
    {
     "data": {
      "text/html": [
       "<div>\n",
       "<style scoped>\n",
       "    .dataframe tbody tr th:only-of-type {\n",
       "        vertical-align: middle;\n",
       "    }\n",
       "\n",
       "    .dataframe tbody tr th {\n",
       "        vertical-align: top;\n",
       "    }\n",
       "\n",
       "    .dataframe thead th {\n",
       "        text-align: right;\n",
       "    }\n",
       "</style>\n",
       "<table border=\"1\" class=\"dataframe\">\n",
       "  <thead>\n",
       "    <tr style=\"text-align: right;\">\n",
       "      <th></th>\n",
       "      <th>age</th>\n",
       "    </tr>\n",
       "  </thead>\n",
       "  <tbody>\n",
       "    <tr>\n",
       "      <th>count</th>\n",
       "      <td>500.00000</td>\n",
       "    </tr>\n",
       "    <tr>\n",
       "      <th>mean</th>\n",
       "      <td>46.58800</td>\n",
       "    </tr>\n",
       "    <tr>\n",
       "      <th>std</th>\n",
       "      <td>16.66763</td>\n",
       "    </tr>\n",
       "    <tr>\n",
       "      <th>min</th>\n",
       "      <td>18.00000</td>\n",
       "    </tr>\n",
       "    <tr>\n",
       "      <th>25%</th>\n",
       "      <td>32.00000</td>\n",
       "    </tr>\n",
       "    <tr>\n",
       "      <th>50%</th>\n",
       "      <td>46.00000</td>\n",
       "    </tr>\n",
       "    <tr>\n",
       "      <th>75%</th>\n",
       "      <td>62.00000</td>\n",
       "    </tr>\n",
       "    <tr>\n",
       "      <th>max</th>\n",
       "      <td>75.00000</td>\n",
       "    </tr>\n",
       "  </tbody>\n",
       "</table>\n",
       "</div>"
      ],
      "text/plain": [
       "             age\n",
       "count  500.00000\n",
       "mean    46.58800\n",
       "std     16.66763\n",
       "min     18.00000\n",
       "25%     32.00000\n",
       "50%     46.00000\n",
       "75%     62.00000\n",
       "max     75.00000"
      ]
     },
     "metadata": {},
     "output_type": "display_data"
    },
    {
     "data": {
      "text/plain": [
       "<AxesSubplot:>"
      ]
     },
     "metadata": {},
     "output_type": "display_data"
    },
    {
     "data": {
      "text/html": [
       "<div>\n",
       "<style scoped>\n",
       "    .dataframe tbody tr th:only-of-type {\n",
       "        vertical-align: middle;\n",
       "    }\n",
       "\n",
       "    .dataframe tbody tr th {\n",
       "        vertical-align: top;\n",
       "    }\n",
       "\n",
       "    .dataframe thead th {\n",
       "        text-align: right;\n",
       "    }\n",
       "</style>\n",
       "<table border=\"1\" class=\"dataframe\">\n",
       "  <thead>\n",
       "    <tr style=\"text-align: right;\">\n",
       "      <th></th>\n",
       "      <th>churn_date</th>\n",
       "      <th>city</th>\n",
       "      <th>first_name</th>\n",
       "      <th>last_name</th>\n",
       "      <th>reg_date</th>\n",
       "      <th>tariff</th>\n",
       "    </tr>\n",
       "  </thead>\n",
       "  <tbody>\n",
       "    <tr>\n",
       "      <th>count</th>\n",
       "      <td>38</td>\n",
       "      <td>500</td>\n",
       "      <td>500</td>\n",
       "      <td>500</td>\n",
       "      <td>500</td>\n",
       "      <td>500</td>\n",
       "    </tr>\n",
       "    <tr>\n",
       "      <th>unique</th>\n",
       "      <td>33</td>\n",
       "      <td>76</td>\n",
       "      <td>246</td>\n",
       "      <td>419</td>\n",
       "      <td>270</td>\n",
       "      <td>2</td>\n",
       "    </tr>\n",
       "    <tr>\n",
       "      <th>top</th>\n",
       "      <td>2018-12-03</td>\n",
       "      <td>Москва</td>\n",
       "      <td>Радим</td>\n",
       "      <td>Андреенко</td>\n",
       "      <td>2018-05-28</td>\n",
       "      <td>smart</td>\n",
       "    </tr>\n",
       "    <tr>\n",
       "      <th>freq</th>\n",
       "      <td>2</td>\n",
       "      <td>99</td>\n",
       "      <td>6</td>\n",
       "      <td>5</td>\n",
       "      <td>8</td>\n",
       "      <td>351</td>\n",
       "    </tr>\n",
       "  </tbody>\n",
       "</table>\n",
       "</div>"
      ],
      "text/plain": [
       "        churn_date    city first_name  last_name    reg_date tariff\n",
       "count           38     500        500        500         500    500\n",
       "unique          33      76        246        419         270      2\n",
       "top     2018-12-03  Москва      Радим  Андреенко  2018-05-28  smart\n",
       "freq             2      99          6          5           8    351"
      ]
     },
     "metadata": {},
     "output_type": "display_data"
    },
    {
     "data": {
      "image/png": "[encoded data removed]",
      "text/plain": [
       "<Figure size 432x288 with 1 Axes>"
      ]
     },
     "metadata": {
      "needs_background": "light"
     },
     "output_type": "display_data"
    }
   ],
   "source": [
    "print(f'\\nСтатистическое описание датафрейма \"Пользователи\" позволяет сделать следующие выводы:\\\n",
    "      \\n- Средний возраст пользователей - 46 лет\\\n",
    "      \\n- Возрастные рамки соблюдаются: возраст пользователей от 18 до 75-ти лет - аномальные значения отсутствуют\\\n",
    "      \\n- Подавляющее большинство пользователей - люди в возрасте от 32 до 60-ти лет\\\n",
    "      \\n- Стандартное отклонение возраста показывает, что возраст пользователей довольно сильно рассеян относительно среднего. Также это показывает гистограмма распределения возраста\\\n",
    "      \\n- Тариф \"Смарт\" лидирует в количестве пользователей: их на нем {round(users.describe(include=[\"object\"]).iloc[-1,-1]/users.describe(include=[\"object\"]).iloc[0,-1]*100)}%\\\n",
    "      \\n')\n",
    "      \n",
    "display(users.describe()['age'].to_frame(), users.age.hist(bins=20, legend=True), users.describe(include=['object']))"
   ]
  },
  {
   "cell_type": "markdown",
   "id": "820801a4-3363-4edc-b977-636c436b9fcb",
   "metadata": {},
   "source": [
    "## Звонки"
   ]
  },
  {
   "cell_type": "code",
   "execution_count": 5,
   "id": "8a909d88-500d-461b-b704-301fdd17cea6",
   "metadata": {
    "tags": []
   },
   "outputs": [
    {
     "name": "stdout",
     "output_type": "stream",
     "text": [
      "<class 'pandas.core.frame.DataFrame'>\n",
      "RangeIndex: 202607 entries, 0 to 202606\n",
      "Data columns (total 4 columns):\n",
      " #   Column     Non-Null Count   Dtype  \n",
      "---  ------     --------------   -----  \n",
      " 0   id         202607 non-null  object \n",
      " 1   call_date  202607 non-null  object \n",
      " 2   duration   202607 non-null  float64\n",
      " 3   user_id    202607 non-null  int64  \n",
      "dtypes: float64(1), int64(1), object(2)\n",
      "memory usage: 6.2+ MB\n"
     ]
    },
    {
     "data": {
      "text/html": [
       "<div>\n",
       "<style scoped>\n",
       "    .dataframe tbody tr th:only-of-type {\n",
       "        vertical-align: middle;\n",
       "    }\n",
       "\n",
       "    .dataframe tbody tr th {\n",
       "        vertical-align: top;\n",
       "    }\n",
       "\n",
       "    .dataframe thead th {\n",
       "        text-align: right;\n",
       "    }\n",
       "</style>\n",
       "<table border=\"1\" class=\"dataframe\">\n",
       "  <thead>\n",
       "    <tr style=\"text-align: right;\">\n",
       "      <th></th>\n",
       "      <th>id</th>\n",
       "      <th>call_date</th>\n",
       "      <th>duration</th>\n",
       "      <th>user_id</th>\n",
       "    </tr>\n",
       "  </thead>\n",
       "  <tbody>\n",
       "    <tr>\n",
       "      <th>5573</th>\n",
       "      <td>1015_293</td>\n",
       "      <td>2018-12-21</td>\n",
       "      <td>5.03</td>\n",
       "      <td>1015</td>\n",
       "    </tr>\n",
       "    <tr>\n",
       "      <th>139828</th>\n",
       "      <td>1356_812</td>\n",
       "      <td>2018-04-21</td>\n",
       "      <td>14.30</td>\n",
       "      <td>1356</td>\n",
       "    </tr>\n",
       "  </tbody>\n",
       "</table>\n",
       "</div>"
      ],
      "text/plain": [
       "              id   call_date  duration  user_id\n",
       "5573    1015_293  2018-12-21      5.03     1015\n",
       "139828  1356_812  2018-04-21     14.30     1356"
      ]
     },
     "execution_count": 5,
     "metadata": {},
     "output_type": "execute_result"
    }
   ],
   "source": [
    "calls = pd.read_csv('calls.csv')\n",
    "calls.info()\n",
    "calls.sample(2)"
   ]
  },
  {
   "cell_type": "code",
   "execution_count": 6,
   "id": "8f912f13-d1c0-485d-a8d6-ea5513745462",
   "metadata": {
    "jupyter": {
     "source_hidden": true
    },
    "tags": []
   },
   "outputs": [
    {
     "name": "stdout",
     "output_type": "stream",
     "text": [
      "\n",
      "Статистическое описание датафрейма \"Звонки\" позволяет сделать следующие выводы:      \n",
      "- Средняя длительность звонка - 6 минут 45 секунд      \n",
      "- Стандартное отклонение показывает, что разброс длительности звонков очень велик, и показатель средней длительности не отражает реальное положение вещей      \n",
      "Также это показывает гистограмма распределения длительноси звонков      \n",
      "- Четверть звонков всего набора данных - пропущенные, о чем свидетельствует первый квартиль и инфо о топе по количеству звонков каждого значения длительности      \n",
      "- Самый популярный день по количеству звонков - Новый год - 31-ое декабря 🎄      \n",
      "\n"
     ]
    },
    {
     "data": {
      "text/html": [
       "<div>\n",
       "<style scoped>\n",
       "    .dataframe tbody tr th:only-of-type {\n",
       "        vertical-align: middle;\n",
       "    }\n",
       "\n",
       "    .dataframe tbody tr th {\n",
       "        vertical-align: top;\n",
       "    }\n",
       "\n",
       "    .dataframe thead th {\n",
       "        text-align: right;\n",
       "    }\n",
       "</style>\n",
       "<table border=\"1\" class=\"dataframe\">\n",
       "  <thead>\n",
       "    <tr style=\"text-align: right;\">\n",
       "      <th></th>\n",
       "      <th>duration</th>\n",
       "    </tr>\n",
       "  </thead>\n",
       "  <tbody>\n",
       "    <tr>\n",
       "      <th>count</th>\n",
       "      <td>202607.000000</td>\n",
       "    </tr>\n",
       "    <tr>\n",
       "      <th>mean</th>\n",
       "      <td>6.755887</td>\n",
       "    </tr>\n",
       "    <tr>\n",
       "      <th>std</th>\n",
       "      <td>5.843365</td>\n",
       "    </tr>\n",
       "    <tr>\n",
       "      <th>min</th>\n",
       "      <td>0.000000</td>\n",
       "    </tr>\n",
       "    <tr>\n",
       "      <th>25%</th>\n",
       "      <td>1.300000</td>\n",
       "    </tr>\n",
       "    <tr>\n",
       "      <th>50%</th>\n",
       "      <td>6.000000</td>\n",
       "    </tr>\n",
       "    <tr>\n",
       "      <th>75%</th>\n",
       "      <td>10.700000</td>\n",
       "    </tr>\n",
       "    <tr>\n",
       "      <th>max</th>\n",
       "      <td>38.000000</td>\n",
       "    </tr>\n",
       "  </tbody>\n",
       "</table>\n",
       "</div>"
      ],
      "text/plain": [
       "            duration\n",
       "count  202607.000000\n",
       "mean        6.755887\n",
       "std         5.843365\n",
       "min         0.000000\n",
       "25%         1.300000\n",
       "50%         6.000000\n",
       "75%        10.700000\n",
       "max        38.000000"
      ]
     },
     "metadata": {},
     "output_type": "display_data"
    },
    {
     "data": {
      "text/plain": [
       "<AxesSubplot:>"
      ]
     },
     "metadata": {},
     "output_type": "display_data"
    },
    {
     "data": {
      "text/html": [
       "<div>\n",
       "<style scoped>\n",
       "    .dataframe tbody tr th:only-of-type {\n",
       "        vertical-align: middle;\n",
       "    }\n",
       "\n",
       "    .dataframe tbody tr th {\n",
       "        vertical-align: top;\n",
       "    }\n",
       "\n",
       "    .dataframe thead th {\n",
       "        text-align: right;\n",
       "    }\n",
       "</style>\n",
       "<table border=\"1\" class=\"dataframe\">\n",
       "  <thead>\n",
       "    <tr style=\"text-align: right;\">\n",
       "      <th></th>\n",
       "      <th>duration</th>\n",
       "    </tr>\n",
       "  </thead>\n",
       "  <tbody>\n",
       "    <tr>\n",
       "      <th>0.00</th>\n",
       "      <td>39613</td>\n",
       "    </tr>\n",
       "    <tr>\n",
       "      <th>4.49</th>\n",
       "      <td>142</td>\n",
       "    </tr>\n",
       "    <tr>\n",
       "      <th>5.50</th>\n",
       "      <td>142</td>\n",
       "    </tr>\n",
       "    <tr>\n",
       "      <th>6.15</th>\n",
       "      <td>141</td>\n",
       "    </tr>\n",
       "    <tr>\n",
       "      <th>6.38</th>\n",
       "      <td>141</td>\n",
       "    </tr>\n",
       "  </tbody>\n",
       "</table>\n",
       "</div>"
      ],
      "text/plain": [
       "      duration\n",
       "0.00     39613\n",
       "4.49       142\n",
       "5.50       142\n",
       "6.15       141\n",
       "6.38       141"
      ]
     },
     "metadata": {},
     "output_type": "display_data"
    },
    {
     "data": {
      "text/html": [
       "<div>\n",
       "<style scoped>\n",
       "    .dataframe tbody tr th:only-of-type {\n",
       "        vertical-align: middle;\n",
       "    }\n",
       "\n",
       "    .dataframe tbody tr th {\n",
       "        vertical-align: top;\n",
       "    }\n",
       "\n",
       "    .dataframe thead th {\n",
       "        text-align: right;\n",
       "    }\n",
       "</style>\n",
       "<table border=\"1\" class=\"dataframe\">\n",
       "  <thead>\n",
       "    <tr style=\"text-align: right;\">\n",
       "      <th></th>\n",
       "      <th>id</th>\n",
       "      <th>call_date</th>\n",
       "    </tr>\n",
       "  </thead>\n",
       "  <tbody>\n",
       "    <tr>\n",
       "      <th>count</th>\n",
       "      <td>202607</td>\n",
       "      <td>202607</td>\n",
       "    </tr>\n",
       "    <tr>\n",
       "      <th>unique</th>\n",
       "      <td>202607</td>\n",
       "      <td>365</td>\n",
       "    </tr>\n",
       "    <tr>\n",
       "      <th>top</th>\n",
       "      <td>1000_0</td>\n",
       "      <td>2018-12-31</td>\n",
       "    </tr>\n",
       "    <tr>\n",
       "      <th>freq</th>\n",
       "      <td>1</td>\n",
       "      <td>1435</td>\n",
       "    </tr>\n",
       "  </tbody>\n",
       "</table>\n",
       "</div>"
      ],
      "text/plain": [
       "            id   call_date\n",
       "count   202607      202607\n",
       "unique  202607         365\n",
       "top     1000_0  2018-12-31\n",
       "freq         1        1435"
      ]
     },
     "metadata": {},
     "output_type": "display_data"
    },
    {
     "data": {
      "image/png": "[encoded data removed]",
      "text/plain": [
       "<Figure size 432x288 with 1 Axes>"
      ]
     },
     "metadata": {
      "needs_background": "light"
     },
     "output_type": "display_data"
    }
   ],
   "source": [
    "print(f'\\nСтатистическое описание датафрейма \"Звонки\" позволяет сделать следующие выводы:\\\n",
    "      \\n- Средняя длительность звонка - 6 минут 45 секунд\\\n",
    "      \\n- Стандартное отклонение показывает, что разброс длительности звонков очень велик, и показатель средней длительности не отражает реальное положение вещей\\\n",
    "      \\nТакже это показывает гистограмма распределения длительноси звонков\\\n",
    "      \\n- Четверть звонков всего набора данных - пропущенные, о чем свидетельствует первый квартиль и инфо о топе по количеству звонков каждого значения длительности\\\n",
    "      \\n- Самый популярный день по количеству звонков - Новый год - 31-ое декабря 🎄\\\n",
    "      \\n')\n",
    "\n",
    "display(calls.describe()['duration'].to_frame(), calls.duration.hist(bins=20, legend=True), calls.duration.value_counts().to_frame().head(5), calls.describe(include=['object']))"
   ]
  },
  {
   "cell_type": "markdown",
   "id": "02dbcee0-3a24-4090-88e5-6a055a79f9ed",
   "metadata": {},
   "source": [
    "## Интернет"
   ]
  },
  {
   "cell_type": "code",
   "execution_count": 7,
   "id": "be1ffcf1-7ba7-4c6c-b557-9c7dc3e6d9b6",
   "metadata": {
    "jupyter": {
     "source_hidden": true
    },
    "tags": []
   },
   "outputs": [
    {
     "name": "stdout",
     "output_type": "stream",
     "text": [
      "<class 'pandas.core.frame.DataFrame'>\n",
      "RangeIndex: 149396 entries, 0 to 149395\n",
      "Data columns (total 5 columns):\n",
      " #   Column        Non-Null Count   Dtype  \n",
      "---  ------        --------------   -----  \n",
      " 0   Unnamed: 0    149396 non-null  int64  \n",
      " 1   id            149396 non-null  object \n",
      " 2   mb_used       149396 non-null  float64\n",
      " 3   session_date  149396 non-null  object \n",
      " 4   user_id       149396 non-null  int64  \n",
      "dtypes: float64(1), int64(2), object(2)\n",
      "memory usage: 5.7+ MB\n"
     ]
    },
    {
     "data": {
      "text/html": [
       "<div>\n",
       "<style scoped>\n",
       "    .dataframe tbody tr th:only-of-type {\n",
       "        vertical-align: middle;\n",
       "    }\n",
       "\n",
       "    .dataframe tbody tr th {\n",
       "        vertical-align: top;\n",
       "    }\n",
       "\n",
       "    .dataframe thead th {\n",
       "        text-align: right;\n",
       "    }\n",
       "</style>\n",
       "<table border=\"1\" class=\"dataframe\">\n",
       "  <thead>\n",
       "    <tr style=\"text-align: right;\">\n",
       "      <th></th>\n",
       "      <th>Unnamed: 0</th>\n",
       "      <th>id</th>\n",
       "      <th>mb_used</th>\n",
       "      <th>session_date</th>\n",
       "      <th>user_id</th>\n",
       "    </tr>\n",
       "  </thead>\n",
       "  <tbody>\n",
       "    <tr>\n",
       "      <th>35192</th>\n",
       "      <td>35192</td>\n",
       "      <td>1123_156</td>\n",
       "      <td>151.83</td>\n",
       "      <td>2018-11-04</td>\n",
       "      <td>1123</td>\n",
       "    </tr>\n",
       "    <tr>\n",
       "      <th>20038</th>\n",
       "      <td>20038</td>\n",
       "      <td>1067_139</td>\n",
       "      <td>0.00</td>\n",
       "      <td>2018-10-12</td>\n",
       "      <td>1067</td>\n",
       "    </tr>\n",
       "  </tbody>\n",
       "</table>\n",
       "</div>"
      ],
      "text/plain": [
       "       Unnamed: 0        id  mb_used session_date  user_id\n",
       "35192       35192  1123_156   151.83   2018-11-04     1123\n",
       "20038       20038  1067_139     0.00   2018-10-12     1067"
      ]
     },
     "execution_count": 7,
     "metadata": {},
     "output_type": "execute_result"
    }
   ],
   "source": [
    "internet = pd.read_csv('internet.csv')\n",
    "internet.info()\n",
    "internet.sample(2)"
   ]
  },
  {
   "cell_type": "code",
   "execution_count": 8,
   "id": "c1b76dc3-77c2-4255-bf08-a933450e0dfb",
   "metadata": {
    "jupyter": {
     "source_hidden": true
    },
    "tags": []
   },
   "outputs": [
    {
     "name": "stdout",
     "output_type": "stream",
     "text": [
      "\n",
      "Статистическое описание датафрейма \"Интернет\" позволяет сделать следующие выводы:      \n",
      "- Средний объем израсходованного интернет-трафика за сессию - 370 мб      \n",
      "- Стандартное отклонение показывает, что разброс длительности составляет 75% от среднего, что свидетельствует о малозначащем смысле среднего значения      \n",
      "О чем также свидетельствует гистограмма распределения объама расходуемого трафика за сессию      \n",
      "- Расход более 75% сессий составляет не более до 600 мб трафика      \n",
      "- Полярными датами по количеству сессий являются 2018-12-31 - самое наибольшее и 2018-01-01 - самое наименьшее.      \n",
      "В первом случае это связано с предновогодней суетой и постоянным времяпрепровождением в интернете в поисках подарков, и рецептов к новогоднему столу      \n",
      "Во втором - с моральной усталостью после праздника и желанием побыть с семьей/прогуляться на свежем воздухе\n",
      "\n"
     ]
    },
    {
     "data": {
      "text/html": [
       "<div>\n",
       "<style scoped>\n",
       "    .dataframe tbody tr th:only-of-type {\n",
       "        vertical-align: middle;\n",
       "    }\n",
       "\n",
       "    .dataframe tbody tr th {\n",
       "        vertical-align: top;\n",
       "    }\n",
       "\n",
       "    .dataframe thead th {\n",
       "        text-align: right;\n",
       "    }\n",
       "</style>\n",
       "<table border=\"1\" class=\"dataframe\">\n",
       "  <thead>\n",
       "    <tr style=\"text-align: right;\">\n",
       "      <th></th>\n",
       "      <th>mb_used</th>\n",
       "    </tr>\n",
       "  </thead>\n",
       "  <tbody>\n",
       "    <tr>\n",
       "      <th>count</th>\n",
       "      <td>149396.000000</td>\n",
       "    </tr>\n",
       "    <tr>\n",
       "      <th>mean</th>\n",
       "      <td>370.192426</td>\n",
       "    </tr>\n",
       "    <tr>\n",
       "      <th>std</th>\n",
       "      <td>278.300951</td>\n",
       "    </tr>\n",
       "    <tr>\n",
       "      <th>min</th>\n",
       "      <td>0.000000</td>\n",
       "    </tr>\n",
       "    <tr>\n",
       "      <th>25%</th>\n",
       "      <td>138.187500</td>\n",
       "    </tr>\n",
       "    <tr>\n",
       "      <th>50%</th>\n",
       "      <td>348.015000</td>\n",
       "    </tr>\n",
       "    <tr>\n",
       "      <th>75%</th>\n",
       "      <td>559.552500</td>\n",
       "    </tr>\n",
       "    <tr>\n",
       "      <th>max</th>\n",
       "      <td>1724.830000</td>\n",
       "    </tr>\n",
       "  </tbody>\n",
       "</table>\n",
       "</div>"
      ],
      "text/plain": [
       "             mb_used\n",
       "count  149396.000000\n",
       "mean      370.192426\n",
       "std       278.300951\n",
       "min         0.000000\n",
       "25%       138.187500\n",
       "50%       348.015000\n",
       "75%       559.552500\n",
       "max      1724.830000"
      ]
     },
     "metadata": {},
     "output_type": "display_data"
    },
    {
     "data": {
      "text/plain": [
       "<AxesSubplot:>"
      ]
     },
     "metadata": {},
     "output_type": "display_data"
    },
    {
     "data": {
      "text/html": [
       "<div>\n",
       "<style scoped>\n",
       "    .dataframe tbody tr th:only-of-type {\n",
       "        vertical-align: middle;\n",
       "    }\n",
       "\n",
       "    .dataframe tbody tr th {\n",
       "        vertical-align: top;\n",
       "    }\n",
       "\n",
       "    .dataframe thead th {\n",
       "        text-align: right;\n",
       "    }\n",
       "</style>\n",
       "<table border=\"1\" class=\"dataframe\">\n",
       "  <thead>\n",
       "    <tr style=\"text-align: right;\">\n",
       "      <th></th>\n",
       "      <th>id</th>\n",
       "      <th>session_date</th>\n",
       "    </tr>\n",
       "  </thead>\n",
       "  <tbody>\n",
       "    <tr>\n",
       "      <th>count</th>\n",
       "      <td>149396</td>\n",
       "      <td>149396</td>\n",
       "    </tr>\n",
       "    <tr>\n",
       "      <th>unique</th>\n",
       "      <td>149396</td>\n",
       "      <td>365</td>\n",
       "    </tr>\n",
       "    <tr>\n",
       "      <th>top</th>\n",
       "      <td>1000_0</td>\n",
       "      <td>2018-12-31</td>\n",
       "    </tr>\n",
       "    <tr>\n",
       "      <th>freq</th>\n",
       "      <td>1</td>\n",
       "      <td>1057</td>\n",
       "    </tr>\n",
       "  </tbody>\n",
       "</table>\n",
       "</div>"
      ],
      "text/plain": [
       "            id session_date\n",
       "count   149396       149396\n",
       "unique  149396          365\n",
       "top     1000_0   2018-12-31\n",
       "freq         1         1057"
      ]
     },
     "metadata": {},
     "output_type": "display_data"
    },
    {
     "data": {
      "text/html": [
       "<div>\n",
       "<style scoped>\n",
       "    .dataframe tbody tr th:only-of-type {\n",
       "        vertical-align: middle;\n",
       "    }\n",
       "\n",
       "    .dataframe tbody tr th {\n",
       "        vertical-align: top;\n",
       "    }\n",
       "\n",
       "    .dataframe thead th {\n",
       "        text-align: right;\n",
       "    }\n",
       "</style>\n",
       "<table border=\"1\" class=\"dataframe\">\n",
       "  <thead>\n",
       "    <tr style=\"text-align: right;\">\n",
       "      <th></th>\n",
       "      <th>session_date</th>\n",
       "    </tr>\n",
       "  </thead>\n",
       "  <tbody>\n",
       "    <tr>\n",
       "      <th>2018-12-31</th>\n",
       "      <td>1057</td>\n",
       "    </tr>\n",
       "    <tr>\n",
       "      <th>2018-01-01</th>\n",
       "      <td>3</td>\n",
       "    </tr>\n",
       "  </tbody>\n",
       "</table>\n",
       "</div>"
      ],
      "text/plain": [
       "            session_date\n",
       "2018-12-31          1057\n",
       "2018-01-01             3"
      ]
     },
     "metadata": {},
     "output_type": "display_data"
    },
    {
     "data": {
      "image/png": "[encoded data removed]",
      "text/plain": [
       "<Figure size 432x288 with 1 Axes>"
      ]
     },
     "metadata": {
      "needs_background": "light"
     },
     "output_type": "display_data"
    }
   ],
   "source": [
    "print(f'\\nСтатистическое описание датафрейма \"Интернет\" позволяет сделать следующие выводы:\\\n",
    "      \\n- Средний объем израсходованного интернет-трафика за сессию - 370 мб\\\n",
    "      \\n- Стандартное отклонение показывает, что разброс длительности составляет 75% от среднего, что свидетельствует о малозначащем смысле среднего значения\\\n",
    "      \\nО чем также свидетельствует гистограмма распределения объама расходуемого трафика за сессию\\\n",
    "      \\n- Расход более 75% сессий составляет не более до 600 мб трафика\\\n",
    "      \\n- Полярными датами по количеству сессий являются 2018-12-31 - самое наибольшее и 2018-01-01 - самое наименьшее.\\\n",
    "      \\nВ первом случае это связано с предновогодней суетой и постоянным времяпрепровождением в интернете в поисках подарков, и рецептов к новогоднему столу\\\n",
    "      \\nВо втором - с моральной усталостью после праздника и желанием побыть с семьей/прогуляться на свежем воздухе\\n')\n",
    "      \n",
    "display(internet.describe()['mb_used'].to_frame(), internet.mb_used.hist(bins=20, legend=True), internet.describe(include=['object']), internet.session_date.value_counts().to_frame().iloc[[0,-1], :])"
   ]
  },
  {
   "cell_type": "markdown",
   "id": "e2af862a-2f62-49ff-a427-eece82250443",
   "metadata": {},
   "source": [
    "## Сообщения"
   ]
  },
  {
   "cell_type": "code",
   "execution_count": 9,
   "id": "91e633c7-e282-4717-b032-5c78fda1cb9f",
   "metadata": {
    "jupyter": {
     "source_hidden": true
    },
    "tags": []
   },
   "outputs": [
    {
     "name": "stdout",
     "output_type": "stream",
     "text": [
      "<class 'pandas.core.frame.DataFrame'>\n",
      "RangeIndex: 123036 entries, 0 to 123035\n",
      "Data columns (total 3 columns):\n",
      " #   Column        Non-Null Count   Dtype \n",
      "---  ------        --------------   ----- \n",
      " 0   id            123036 non-null  object\n",
      " 1   message_date  123036 non-null  object\n",
      " 2   user_id       123036 non-null  int64 \n",
      "dtypes: int64(1), object(2)\n",
      "memory usage: 2.8+ MB\n"
     ]
    },
    {
     "data": {
      "text/html": [
       "<div>\n",
       "<style scoped>\n",
       "    .dataframe tbody tr th:only-of-type {\n",
       "        vertical-align: middle;\n",
       "    }\n",
       "\n",
       "    .dataframe tbody tr th {\n",
       "        vertical-align: top;\n",
       "    }\n",
       "\n",
       "    .dataframe thead th {\n",
       "        text-align: right;\n",
       "    }\n",
       "</style>\n",
       "<table border=\"1\" class=\"dataframe\">\n",
       "  <thead>\n",
       "    <tr style=\"text-align: right;\">\n",
       "      <th></th>\n",
       "      <th>id</th>\n",
       "      <th>message_date</th>\n",
       "      <th>user_id</th>\n",
       "    </tr>\n",
       "  </thead>\n",
       "  <tbody>\n",
       "    <tr>\n",
       "      <th>94875</th>\n",
       "      <td>1387_4</td>\n",
       "      <td>2018-12-30</td>\n",
       "      <td>1387</td>\n",
       "    </tr>\n",
       "    <tr>\n",
       "      <th>18666</th>\n",
       "      <td>1082_107</td>\n",
       "      <td>2018-12-04</td>\n",
       "      <td>1082</td>\n",
       "    </tr>\n",
       "  </tbody>\n",
       "</table>\n",
       "</div>"
      ],
      "text/plain": [
       "             id message_date  user_id\n",
       "94875    1387_4   2018-12-30     1387\n",
       "18666  1082_107   2018-12-04     1082"
      ]
     },
     "execution_count": 9,
     "metadata": {},
     "output_type": "execute_result"
    }
   ],
   "source": [
    "messages = pd.read_csv('messages.csv')\n",
    "messages.info()\n",
    "messages.sample(2)"
   ]
  },
  {
   "cell_type": "code",
   "execution_count": 18,
   "id": "9515d46b-6630-477a-826f-9009ba54a2f0",
   "metadata": {
    "tags": []
   },
   "outputs": [
    {
     "name": "stdout",
     "output_type": "stream",
     "text": [
      "\n",
      "Статистическое описание датафрейма \"Сообщения\" позволяет сделать следующие выводы:      \n",
      "- Сообщения посылаются почти каждый день      \n",
      "- Больше всего в 31 декабря - 859 раз - поздравления с Новым годом      \n",
      "\n"
     ]
    },
    {
     "data": {
      "text/html": [
       "<div>\n",
       "<style scoped>\n",
       "    .dataframe tbody tr th:only-of-type {\n",
       "        vertical-align: middle;\n",
       "    }\n",
       "\n",
       "    .dataframe tbody tr th {\n",
       "        vertical-align: top;\n",
       "    }\n",
       "\n",
       "    .dataframe thead th {\n",
       "        text-align: right;\n",
       "    }\n",
       "</style>\n",
       "<table border=\"1\" class=\"dataframe\">\n",
       "  <thead>\n",
       "    <tr style=\"text-align: right;\">\n",
       "      <th></th>\n",
       "      <th>id</th>\n",
       "      <th>message_date</th>\n",
       "    </tr>\n",
       "  </thead>\n",
       "  <tbody>\n",
       "    <tr>\n",
       "      <th>count</th>\n",
       "      <td>123036</td>\n",
       "      <td>123036</td>\n",
       "    </tr>\n",
       "    <tr>\n",
       "      <th>unique</th>\n",
       "      <td>123036</td>\n",
       "      <td>364</td>\n",
       "    </tr>\n",
       "    <tr>\n",
       "      <th>top</th>\n",
       "      <td>1000_0</td>\n",
       "      <td>2018-12-31</td>\n",
       "    </tr>\n",
       "    <tr>\n",
       "      <th>freq</th>\n",
       "      <td>1</td>\n",
       "      <td>859</td>\n",
       "    </tr>\n",
       "  </tbody>\n",
       "</table>\n",
       "</div>"
      ],
      "text/plain": [
       "            id message_date\n",
       "count   123036       123036\n",
       "unique  123036          364\n",
       "top     1000_0   2018-12-31\n",
       "freq         1          859"
      ]
     },
     "metadata": {},
     "output_type": "display_data"
    },
    {
     "data": {
      "text/html": [
       "<div>\n",
       "<style scoped>\n",
       "    .dataframe tbody tr th:only-of-type {\n",
       "        vertical-align: middle;\n",
       "    }\n",
       "\n",
       "    .dataframe tbody tr th {\n",
       "        vertical-align: top;\n",
       "    }\n",
       "\n",
       "    .dataframe thead th {\n",
       "        text-align: right;\n",
       "    }\n",
       "</style>\n",
       "<table border=\"1\" class=\"dataframe\">\n",
       "  <thead>\n",
       "    <tr style=\"text-align: right;\">\n",
       "      <th></th>\n",
       "      <th>message_date</th>\n",
       "    </tr>\n",
       "  </thead>\n",
       "  <tbody>\n",
       "    <tr>\n",
       "      <th>2018-12-31</th>\n",
       "      <td>859</td>\n",
       "    </tr>\n",
       "    <tr>\n",
       "      <th>2018-01-03</th>\n",
       "      <td>4</td>\n",
       "    </tr>\n",
       "  </tbody>\n",
       "</table>\n",
       "</div>"
      ],
      "text/plain": [
       "            message_date\n",
       "2018-12-31           859\n",
       "2018-01-03             4"
      ]
     },
     "metadata": {},
     "output_type": "display_data"
    }
   ],
   "source": [
    "print(f'\\nСтатистическое описание датафрейма \"Сообщения\" позволяет сделать следующие выводы:\\\n",
    "      \\n- Сообщения посылаются почти каждый день\\\n",
    "      \\n- Больше всего в 31 декабря - 859 раз - поздравления с Новым годом\\\n",
    "      \\n')\n",
    "      \n",
    "messages['message_date_dt'] = pd.to_datetime(messages['message_date'])    \n",
    "display(messages.describe(include=['object']), \n",
    "        messages.message_date.value_counts().to_frame().iloc[[0,-1], :])"
   ]
  },
  {
   "cell_type": "markdown",
   "id": "81c9fc14-aa42-452a-a295-4a9fba5b708d",
   "metadata": {},
   "source": [
    "## Объединенные данные "
   ]
  },
  {
   "cell_type": "markdown",
   "id": "12188568-6832-4d66-92e7-567dddcc938c",
   "metadata": {},
   "source": [
    "### Пользователи-звонки"
   ]
  },
  {
   "cell_type": "code",
   "execution_count": 11,
   "id": "f7db8242-6a38-423c-a4d3-07a848c73d5e",
   "metadata": {},
   "outputs": [
    {
     "data": {
      "text/html": [
       "<div>\n",
       "<style scoped>\n",
       "    .dataframe tbody tr th:only-of-type {\n",
       "        vertical-align: middle;\n",
       "    }\n",
       "\n",
       "    .dataframe tbody tr th {\n",
       "        vertical-align: top;\n",
       "    }\n",
       "\n",
       "    .dataframe thead th {\n",
       "        text-align: right;\n",
       "    }\n",
       "</style>\n",
       "<table border=\"1\" class=\"dataframe\">\n",
       "  <thead>\n",
       "    <tr style=\"text-align: right;\">\n",
       "      <th></th>\n",
       "      <th>user_id</th>\n",
       "      <th>age</th>\n",
       "      <th>churn_date</th>\n",
       "      <th>city</th>\n",
       "      <th>first_name</th>\n",
       "      <th>last_name</th>\n",
       "      <th>reg_date</th>\n",
       "      <th>tariff</th>\n",
       "      <th>id</th>\n",
       "      <th>call_date</th>\n",
       "      <th>duration</th>\n",
       "    </tr>\n",
       "  </thead>\n",
       "  <tbody>\n",
       "    <tr>\n",
       "      <th>99904</th>\n",
       "      <td>1254</td>\n",
       "      <td>75</td>\n",
       "      <td>2018-08-17</td>\n",
       "      <td>Москва</td>\n",
       "      <td>Александра</td>\n",
       "      <td>Сухарева</td>\n",
       "      <td>2018-01-04</td>\n",
       "      <td>ultra</td>\n",
       "      <td>1254_330</td>\n",
       "      <td>2018-06-20</td>\n",
       "      <td>15.81</td>\n",
       "    </tr>\n",
       "    <tr>\n",
       "      <th>11427</th>\n",
       "      <td>1029</td>\n",
       "      <td>51</td>\n",
       "      <td>NaN</td>\n",
       "      <td>Екатеринбург</td>\n",
       "      <td>Алексей</td>\n",
       "      <td>Селезнев</td>\n",
       "      <td>2018-09-15</td>\n",
       "      <td>smart</td>\n",
       "      <td>1029_316</td>\n",
       "      <td>2018-09-30</td>\n",
       "      <td>12.72</td>\n",
       "    </tr>\n",
       "  </tbody>\n",
       "</table>\n",
       "</div>"
      ],
      "text/plain": [
       "       user_id  age  churn_date          city  first_name last_name  \\\n",
       "99904     1254   75  2018-08-17        Москва  Александра  Сухарева   \n",
       "11427     1029   51         NaN  Екатеринбург     Алексей  Селезнев   \n",
       "\n",
       "         reg_date tariff        id   call_date  duration  \n",
       "99904  2018-01-04  ultra  1254_330  2018-06-20     15.81  \n",
       "11427  2018-09-15  smart  1029_316  2018-09-30     12.72  "
      ]
     },
     "execution_count": 11,
     "metadata": {},
     "output_type": "execute_result"
    }
   ],
   "source": [
    "users_calls = users.merge(calls, how='left', on='user_id')\n",
    "users_calls.sample(2)"
   ]
  },
  {
   "cell_type": "markdown",
   "id": "d058acc7-002f-4b97-a42f-d98b49a3482d",
   "metadata": {},
   "source": [
    "Подсчитать количество сделанных звонков и израсходованных минут разговора по месяцам"
   ]
  },
  {
   "cell_type": "code",
   "execution_count": 16,
   "id": "8dd76f5e-635e-4d1b-b60f-976a49a5c71b",
   "metadata": {},
   "outputs": [
    {
     "data": {
      "text/plain": [
       "202607"
      ]
     },
     "execution_count": 16,
     "metadata": {},
     "output_type": "execute_result"
    }
   ],
   "source": [
    "users_calls.duration.count()"
   ]
  },
  {
   "cell_type": "code",
   "execution_count": null,
   "id": "9c94d8ec-c439-43e9-99a5-462af2f52253",
   "metadata": {},
   "outputs": [],
   "source": []
  },
  {
   "cell_type": "markdown",
   "id": "977c0e11-9ed2-4a1f-b686-ea67cb9b1f28",
   "metadata": {},
   "source": [
    "### Пользователи-интернет"
   ]
  },
  {
   "cell_type": "code",
   "execution_count": 12,
   "id": "56ebaf46-ec70-4b3c-8ab7-2b867590246b",
   "metadata": {},
   "outputs": [
    {
     "data": {
      "text/html": [
       "<div>\n",
       "<style scoped>\n",
       "    .dataframe tbody tr th:only-of-type {\n",
       "        vertical-align: middle;\n",
       "    }\n",
       "\n",
       "    .dataframe tbody tr th {\n",
       "        vertical-align: top;\n",
       "    }\n",
       "\n",
       "    .dataframe thead th {\n",
       "        text-align: right;\n",
       "    }\n",
       "</style>\n",
       "<table border=\"1\" class=\"dataframe\">\n",
       "  <thead>\n",
       "    <tr style=\"text-align: right;\">\n",
       "      <th></th>\n",
       "      <th>user_id</th>\n",
       "      <th>age</th>\n",
       "      <th>churn_date</th>\n",
       "      <th>city</th>\n",
       "      <th>first_name</th>\n",
       "      <th>last_name</th>\n",
       "      <th>reg_date</th>\n",
       "      <th>tariff</th>\n",
       "      <th>Unnamed: 0</th>\n",
       "      <th>id</th>\n",
       "      <th>mb_used</th>\n",
       "      <th>session_date</th>\n",
       "    </tr>\n",
       "  </thead>\n",
       "  <tbody>\n",
       "    <tr>\n",
       "      <th>72734</th>\n",
       "      <td>1245</td>\n",
       "      <td>32</td>\n",
       "      <td>NaN</td>\n",
       "      <td>Москва</td>\n",
       "      <td>Маргарита</td>\n",
       "      <td>Коновалова</td>\n",
       "      <td>2018-09-10</td>\n",
       "      <td>ultra</td>\n",
       "      <td>72733.0</td>\n",
       "      <td>1245_98</td>\n",
       "      <td>635.26</td>\n",
       "      <td>2018-12-27</td>\n",
       "    </tr>\n",
       "    <tr>\n",
       "      <th>16093</th>\n",
       "      <td>1055</td>\n",
       "      <td>39</td>\n",
       "      <td>NaN</td>\n",
       "      <td>Казань</td>\n",
       "      <td>Луиза</td>\n",
       "      <td>Березина</td>\n",
       "      <td>2018-01-02</td>\n",
       "      <td>smart</td>\n",
       "      <td>16093.0</td>\n",
       "      <td>1055_551</td>\n",
       "      <td>206.43</td>\n",
       "      <td>2018-06-19</td>\n",
       "    </tr>\n",
       "  </tbody>\n",
       "</table>\n",
       "</div>"
      ],
      "text/plain": [
       "       user_id  age churn_date    city first_name   last_name    reg_date  \\\n",
       "72734     1245   32        NaN  Москва  Маргарита  Коновалова  2018-09-10   \n",
       "16093     1055   39        NaN  Казань      Луиза    Березина  2018-01-02   \n",
       "\n",
       "      tariff  Unnamed: 0        id  mb_used session_date  \n",
       "72734  ultra     72733.0   1245_98   635.26   2018-12-27  \n",
       "16093  smart     16093.0  1055_551   206.43   2018-06-19  "
      ]
     },
     "execution_count": 12,
     "metadata": {},
     "output_type": "execute_result"
    }
   ],
   "source": [
    "users_internet = users.merge(internet, how=\"left\", on='user_id')\n",
    "users_internet.sample(2)"
   ]
  },
  {
   "cell_type": "markdown",
   "id": "5b1f663a-f9bb-4d5a-88d6-cf6c5fffa6e8",
   "metadata": {},
   "source": [
    "### Пользователи-сообщения"
   ]
  },
  {
   "cell_type": "code",
   "execution_count": 13,
   "id": "576ce81f-06a6-435e-9c90-d0a806a3358a",
   "metadata": {},
   "outputs": [
    {
     "data": {
      "text/html": [
       "<div>\n",
       "<style scoped>\n",
       "    .dataframe tbody tr th:only-of-type {\n",
       "        vertical-align: middle;\n",
       "    }\n",
       "\n",
       "    .dataframe tbody tr th {\n",
       "        vertical-align: top;\n",
       "    }\n",
       "\n",
       "    .dataframe thead th {\n",
       "        text-align: right;\n",
       "    }\n",
       "</style>\n",
       "<table border=\"1\" class=\"dataframe\">\n",
       "  <thead>\n",
       "    <tr style=\"text-align: right;\">\n",
       "      <th></th>\n",
       "      <th>user_id</th>\n",
       "      <th>age</th>\n",
       "      <th>churn_date</th>\n",
       "      <th>city</th>\n",
       "      <th>first_name</th>\n",
       "      <th>last_name</th>\n",
       "      <th>reg_date</th>\n",
       "      <th>tariff</th>\n",
       "      <th>id</th>\n",
       "      <th>message_date</th>\n",
       "      <th>message_date_dt</th>\n",
       "    </tr>\n",
       "  </thead>\n",
       "  <tbody>\n",
       "    <tr>\n",
       "      <th>38925</th>\n",
       "      <td>1167</td>\n",
       "      <td>30</td>\n",
       "      <td>NaN</td>\n",
       "      <td>Кемерово</td>\n",
       "      <td>Клавдия</td>\n",
       "      <td>Абдулина</td>\n",
       "      <td>2018-09-29</td>\n",
       "      <td>ultra</td>\n",
       "      <td>1167_204</td>\n",
       "      <td>2018-10-24</td>\n",
       "      <td>2018-10-24</td>\n",
       "    </tr>\n",
       "    <tr>\n",
       "      <th>57333</th>\n",
       "      <td>1251</td>\n",
       "      <td>48</td>\n",
       "      <td>NaN</td>\n",
       "      <td>Пермь</td>\n",
       "      <td>Роксана</td>\n",
       "      <td>Тетерина</td>\n",
       "      <td>2018-02-13</td>\n",
       "      <td>smart</td>\n",
       "      <td>1251_754</td>\n",
       "      <td>2018-09-15</td>\n",
       "      <td>2018-09-15</td>\n",
       "    </tr>\n",
       "  </tbody>\n",
       "</table>\n",
       "</div>"
      ],
      "text/plain": [
       "       user_id  age churn_date      city first_name last_name    reg_date  \\\n",
       "38925     1167   30        NaN  Кемерово    Клавдия  Абдулина  2018-09-29   \n",
       "57333     1251   48        NaN     Пермь    Роксана  Тетерина  2018-02-13   \n",
       "\n",
       "      tariff        id message_date message_date_dt  \n",
       "38925  ultra  1167_204   2018-10-24      2018-10-24  \n",
       "57333  smart  1251_754   2018-09-15      2018-09-15  "
      ]
     },
     "execution_count": 13,
     "metadata": {},
     "output_type": "execute_result"
    }
   ],
   "source": [
    "users_messages = users.merge(messages, how=\"left\", on='user_id')\n",
    "users_messages.sample(2)"
   ]
  },
  {
   "cell_type": "code",
   "execution_count": null,
   "id": "2717d89d-9648-4553-842b-1efbfa33c131",
   "metadata": {},
   "outputs": [],
   "source": []
  }
 ],
 "metadata": {
  "kernelspec": {
   "display_name": "Python 3",
   "language": "python",
   "name": "python3"
  },
  "language_info": {
   "codemirror_mode": {
    "name": "ipython",
    "version": 3
   },
   "file_extension": ".py",
   "mimetype": "text/x-python",
   "name": "python",
   "nbconvert_exporter": "python",
   "pygments_lexer": "ipython3",
   "version": "3.8.8"
  }
 },
 "nbformat": 4,
 "nbformat_minor": 5
}
